{
 "cells": [
  {
   "cell_type": "code",
   "execution_count": 85,
   "metadata": {},
   "outputs": [],
   "source": [
    "import numpy as np\n",
    "import pandas as pd\n",
    "import random\n",
    "\n",
    "Trained_data = pd.read_csv(\"basic_trained_data_20Percent.csv\" , sep = \",\" , encoding = 'utf-8')\n",
    "Test_data = pd.read_csv(\"basic_tested_data.csv\" , sep = \",\" , encoding = 'utf-8')\n",
    "\n",
    "#二進位轉十進位\n",
    "def bin2dec(bin):\n",
    "    result = 0\n",
    "    for i in range(len(bin)):\n",
    "        result += pow(2, i) * bin[i]\n",
    "    return result\n",
    "\n",
    "def generate_point(Qbits):\n",
    "    point = []\n",
    "    point.append((bin2dec(Qbits[0:4]) / 16) * Trained_data[\"duration\"].max())\n",
    "    point.append((bin2dec(Qbits[4:8]) / 16) * Trained_data[\"src_bytes\"].max())\n",
    "    point.append((bin2dec(Qbits[8:12]) / 16) * Trained_data[\"dst_bytes\"].max())\n",
    "    point.append(bin2dec(Qbits[12:14]))\n",
    "    point.append(bin2dec(Qbits[14:16]))\n",
    "    return point\n",
    "\n",
    "def cal_distance(Point1, Point2):\n",
    "    dis = 0\n",
    "    for i in range(len(Point1)):\n",
    "        dis += abs(Point1[i] - Point2[i])\n",
    "    return dis\n",
    "\n",
    "#fitness的計算根據問題會不一樣，這裡使用ABS當範例\n",
    "def fitness(QTS, data):\n",
    "    for i in range(QTS.population_size):\n",
    "        QTS.fitness[i] = 0\n",
    "        points = []\n",
    "        points.append(generate_point(QTS.Population[i][0:16]))\n",
    "        points.append(generate_point(QTS.Population[i][16:32]))\n",
    "        for d in data:\n",
    "            dis_safe = cal_distance(d[1:-1], points[0])\n",
    "            dis_attack = cal_distance(d[1:-1], points[1])\n",
    "            if (dis_safe < dis_attack and d[-1] == 0) or (dis_safe > dis_attack and d[-1] == 1):\n",
    "                QTS.fitness[i] += 1\n",
    "        QTS.fitness[i] /= len(data)\n",
    "                       \n",
    "class QTS:\n",
    "    #初始化\n",
    "    def __init__(self, population_size = 10, max_cycle = 100, Qbit_num = 10, theta = 0.01):\n",
    "        self.population_size = population_size\n",
    "        self.max_cycle = max_cycle\n",
    "        self.Qbit_num = Qbit_num\n",
    "        self.theta = theta\n",
    "        self.Population = np.zeros((population_size, Qbit_num))\n",
    "        self.Q_matrix = [0.5 for i in range(Qbit_num)]\n",
    "        self.fitness = [None for i in range(population_size)]\n",
    "        self.best_index = -1\n",
    "        self.worst_index = -1\n",
    "        self.best = [None for i in range(Qbit_num)]\n",
    "    \n",
    "    #設定旋轉角度\n",
    "    def set_theta(self, new_theta):\n",
    "        self.theta = new_theta\n",
    "    \n",
    "    #生成新的Population\n",
    "    def generate_new_population(self):\n",
    "        for i in range(self.population_size):\n",
    "            for j in range(self.Qbit_num):\n",
    "                self.Population[i][j] = int(self.Q_matrix[j] < random.random())\n",
    "    \n",
    "    #找出最佳及最差的粒子(min為最佳)\n",
    "    def selection_find_min(self):\n",
    "        self.best_index = self.fitness.index(min(self.fitness))\n",
    "        self.worst_index = self.fitness.index(max(self.fitness))\n",
    "        if self.best[-1] == None:\n",
    "            self.best = self.Population[self.best_index]\n",
    "            self.best = np.append(self.best, min(self.fitness))\n",
    "        elif min(self.fitness) < self.best[-1]:\n",
    "            self.best = self.Population[self.best_index]\n",
    "            self.best = np.append(self.best, min(self.fitness))\n",
    "    \n",
    "    #找出最佳及最差的粒子(max為最佳)\n",
    "    def selection_find_max(self):\n",
    "        self.best_index = self.fitness.index(max(self.fitness))\n",
    "        self.worst_index =self.fitness.index(min(self.fitness))\n",
    "        if self.best[-1] == None:\n",
    "            self.best = self.Population[self.best_index]\n",
    "            self.best = np.append(self.best, max(self.fitness))\n",
    "        elif max(self.fitness) > self.best[-1]:\n",
    "            self.best = self.Population[self.best_index]\n",
    "            self.best = np.append(self.best, max(self.fitness))\n",
    "    \n",
    "    #更新Qmatrix\n",
    "    def update(self):\n",
    "        for i in range(self.Qbit_num):\n",
    "            if self.Population[self.best_index][i] != self.Population[self.worst_index][i]:\n",
    "                if self.Population[self.best_index][i] == 1:\n",
    "                    self.Q_matrix[i] -= self.theta\n",
    "                else:\n",
    "                    self.Q_matrix[i] += self.theta\n",
    "                    \n",
    "    #更新Qmatrix, Gbest\n",
    "    def update_G(self):\n",
    "        for i in range(self.Qbit_num):\n",
    "            if self.best[i] != self.Population[self.worst_index][i]:\n",
    "                if self.best[i] == 1:\n",
    "                    self.Q_matrix[i] -= self.theta\n",
    "                else:\n",
    "                    self.Q_matrix[i] += self.theta\n",
    "    \n",
    "    #簡易測試\n",
    "    def run(self):\n",
    "        for i in range(self.max_cycle):\n",
    "            self.generate_new_population()\n",
    "            fitness(self)\n",
    "            self.selection_find_min()\n",
    "            self.update()\n",
    "            print(self.fitness)\n",
    "            print(self.best)"
   ]
  },
  {
   "cell_type": "code",
   "execution_count": 86,
   "metadata": {},
   "outputs": [
    {
     "name": "stdout",
     "output_type": "stream",
     "text": [
      "Now: 0\n",
      "[0.5, 0.49, 0.5, 0.49, 0.51, 0.51, 0.49, 0.51, 0.5, 0.49, 0.51, 0.51, 0.51, 0.49, 0.5, 0.5, 0.51, 0.5, 0.5, 0.51, 0.51, 0.51, 0.49, 0.5, 0.5, 0.5, 0.49, 0.49, 0.5, 0.51, 0.49, 0.5]\n",
      "Now: 500\n",
      "[-3.0878077872387166e-16, -3.0878077872387166e-16, 1.0000000000000004, 1.0000000000000004, 1.0000000000000004, 1.0000000000000004, -3.0878077872387166e-16, -3.0878077872387166e-16, 1.0000000000000004, -3.0878077872387166e-16, 1.0000000000000004, 1.0000000000000004, -3.0878077872387166e-16, -3.0878077872387166e-16, 0.009999999999999691, 1.0000000000000004, -3.0878077872387166e-16, 1.0000000000000004, 1.0000000000000004, -3.0878077872387166e-16, 1.0000000000000004, 1.0000000000000004, -3.0878077872387166e-16, -3.0878077872387166e-16, 1.0000000000000004, -3.0878077872387166e-16, 1.0000000000000004, 1.0000000000000004, 0.9700000000000004, 0.9900000000000004, -3.0878077872387166e-16, 0.9900000000000004]\n",
      "Now: 1000\n",
      "[-3.0878077872387166e-16, -3.0878077872387166e-16, 1.0000000000000004, 1.0000000000000004, 1.0000000000000004, 1.0000000000000004, -3.0878077872387166e-16, -3.0878077872387166e-16, 1.0000000000000004, -3.0878077872387166e-16, 1.0000000000000004, 1.0000000000000004, -3.0878077872387166e-16, -3.0878077872387166e-16, -3.0878077872387166e-16, 1.0000000000000004, -3.0878077872387166e-16, 1.0000000000000004, 1.0000000000000004, -3.0878077872387166e-16, 1.0000000000000004, 1.0000000000000004, -3.0878077872387166e-16, -3.0878077872387166e-16, 1.0000000000000004, -3.0878077872387166e-16, 1.0000000000000004, 1.0000000000000004, 1.0000000000000004, 1.0000000000000004, -3.0878077872387166e-16, 1.0000000000000004]\n"
     ]
    },
    {
     "ename": "KeyboardInterrupt",
     "evalue": "",
     "output_type": "error",
     "traceback": [
      "\u001b[1;31m---------------------------------------------------------------------------\u001b[0m",
      "\u001b[1;31mKeyboardInterrupt\u001b[0m                         Traceback (most recent call last)",
      "\u001b[1;32m~\\AppData\\Local\\Temp/ipykernel_4884/58073466.py\u001b[0m in \u001b[0;36m<module>\u001b[1;34m\u001b[0m\n\u001b[0;32m      5\u001b[0m \u001b[1;32mfor\u001b[0m \u001b[0mi\u001b[0m \u001b[1;32min\u001b[0m \u001b[0mrange\u001b[0m\u001b[1;33m(\u001b[0m\u001b[0mQTS_test\u001b[0m\u001b[1;33m.\u001b[0m\u001b[0mmax_cycle\u001b[0m\u001b[1;33m)\u001b[0m\u001b[1;33m:\u001b[0m\u001b[1;33m\u001b[0m\u001b[1;33m\u001b[0m\u001b[0m\n\u001b[0;32m      6\u001b[0m     \u001b[0mQTS_test\u001b[0m\u001b[1;33m.\u001b[0m\u001b[0mgenerate_new_population\u001b[0m\u001b[1;33m(\u001b[0m\u001b[1;33m)\u001b[0m\u001b[1;33m\u001b[0m\u001b[1;33m\u001b[0m\u001b[0m\n\u001b[1;32m----> 7\u001b[1;33m     \u001b[0mfitness\u001b[0m\u001b[1;33m(\u001b[0m\u001b[0mQTS_test\u001b[0m\u001b[1;33m,\u001b[0m \u001b[0mdata\u001b[0m\u001b[1;33m)\u001b[0m\u001b[1;33m\u001b[0m\u001b[1;33m\u001b[0m\u001b[0m\n\u001b[0m\u001b[0;32m      8\u001b[0m     \u001b[0mQTS_test\u001b[0m\u001b[1;33m.\u001b[0m\u001b[0mselection_find_max\u001b[0m\u001b[1;33m(\u001b[0m\u001b[1;33m)\u001b[0m\u001b[1;33m\u001b[0m\u001b[1;33m\u001b[0m\u001b[0m\n\u001b[0;32m      9\u001b[0m     \u001b[0mQTS_test\u001b[0m\u001b[1;33m.\u001b[0m\u001b[0mupdate_G\u001b[0m\u001b[1;33m(\u001b[0m\u001b[1;33m)\u001b[0m\u001b[1;33m\u001b[0m\u001b[1;33m\u001b[0m\u001b[0m\n",
      "\u001b[1;32m~\\AppData\\Local\\Temp/ipykernel_4884/2190394886.py\u001b[0m in \u001b[0;36mfitness\u001b[1;34m(QTS, data)\u001b[0m\n\u001b[0;32m     36\u001b[0m         \u001b[0mpoints\u001b[0m\u001b[1;33m.\u001b[0m\u001b[0mappend\u001b[0m\u001b[1;33m(\u001b[0m\u001b[0mgenerate_point\u001b[0m\u001b[1;33m(\u001b[0m\u001b[0mQTS\u001b[0m\u001b[1;33m.\u001b[0m\u001b[0mPopulation\u001b[0m\u001b[1;33m[\u001b[0m\u001b[0mi\u001b[0m\u001b[1;33m]\u001b[0m\u001b[1;33m[\u001b[0m\u001b[1;36m16\u001b[0m\u001b[1;33m:\u001b[0m\u001b[1;36m32\u001b[0m\u001b[1;33m]\u001b[0m\u001b[1;33m)\u001b[0m\u001b[1;33m)\u001b[0m\u001b[1;33m\u001b[0m\u001b[1;33m\u001b[0m\u001b[0m\n\u001b[0;32m     37\u001b[0m         \u001b[1;32mfor\u001b[0m \u001b[0md\u001b[0m \u001b[1;32min\u001b[0m \u001b[0mdata\u001b[0m\u001b[1;33m:\u001b[0m\u001b[1;33m\u001b[0m\u001b[1;33m\u001b[0m\u001b[0m\n\u001b[1;32m---> 38\u001b[1;33m             \u001b[0mdis_safe\u001b[0m \u001b[1;33m=\u001b[0m \u001b[0mcal_distance\u001b[0m\u001b[1;33m(\u001b[0m\u001b[0md\u001b[0m\u001b[1;33m[\u001b[0m\u001b[1;36m1\u001b[0m\u001b[1;33m:\u001b[0m\u001b[1;33m-\u001b[0m\u001b[1;36m1\u001b[0m\u001b[1;33m]\u001b[0m\u001b[1;33m,\u001b[0m \u001b[0mpoints\u001b[0m\u001b[1;33m[\u001b[0m\u001b[1;36m0\u001b[0m\u001b[1;33m]\u001b[0m\u001b[1;33m)\u001b[0m\u001b[1;33m\u001b[0m\u001b[1;33m\u001b[0m\u001b[0m\n\u001b[0m\u001b[0;32m     39\u001b[0m             \u001b[0mdis_attack\u001b[0m \u001b[1;33m=\u001b[0m \u001b[0mcal_distance\u001b[0m\u001b[1;33m(\u001b[0m\u001b[0md\u001b[0m\u001b[1;33m[\u001b[0m\u001b[1;36m1\u001b[0m\u001b[1;33m:\u001b[0m\u001b[1;33m-\u001b[0m\u001b[1;36m1\u001b[0m\u001b[1;33m]\u001b[0m\u001b[1;33m,\u001b[0m \u001b[0mpoints\u001b[0m\u001b[1;33m[\u001b[0m\u001b[1;36m1\u001b[0m\u001b[1;33m]\u001b[0m\u001b[1;33m)\u001b[0m\u001b[1;33m\u001b[0m\u001b[1;33m\u001b[0m\u001b[0m\n\u001b[0;32m     40\u001b[0m             \u001b[1;32mif\u001b[0m \u001b[1;33m(\u001b[0m\u001b[0mdis_safe\u001b[0m \u001b[1;33m<\u001b[0m \u001b[0mdis_attack\u001b[0m \u001b[1;32mand\u001b[0m \u001b[0md\u001b[0m\u001b[1;33m[\u001b[0m\u001b[1;33m-\u001b[0m\u001b[1;36m1\u001b[0m\u001b[1;33m]\u001b[0m \u001b[1;33m==\u001b[0m \u001b[1;36m0\u001b[0m\u001b[1;33m)\u001b[0m \u001b[1;32mor\u001b[0m \u001b[1;33m(\u001b[0m\u001b[0mdis_safe\u001b[0m \u001b[1;33m>\u001b[0m \u001b[0mdis_attack\u001b[0m \u001b[1;32mand\u001b[0m \u001b[0md\u001b[0m\u001b[1;33m[\u001b[0m\u001b[1;33m-\u001b[0m\u001b[1;36m1\u001b[0m\u001b[1;33m]\u001b[0m \u001b[1;33m==\u001b[0m \u001b[1;36m1\u001b[0m\u001b[1;33m)\u001b[0m\u001b[1;33m:\u001b[0m\u001b[1;33m\u001b[0m\u001b[1;33m\u001b[0m\u001b[0m\n",
      "\u001b[1;32m~\\AppData\\Local\\Temp/ipykernel_4884/2190394886.py\u001b[0m in \u001b[0;36mcal_distance\u001b[1;34m(Point1, Point2)\u001b[0m\n\u001b[0;32m     25\u001b[0m     \u001b[0mdis\u001b[0m \u001b[1;33m=\u001b[0m \u001b[1;36m0\u001b[0m\u001b[1;33m\u001b[0m\u001b[1;33m\u001b[0m\u001b[0m\n\u001b[0;32m     26\u001b[0m     \u001b[1;32mfor\u001b[0m \u001b[0mi\u001b[0m \u001b[1;32min\u001b[0m \u001b[0mrange\u001b[0m\u001b[1;33m(\u001b[0m\u001b[0mlen\u001b[0m\u001b[1;33m(\u001b[0m\u001b[0mPoint1\u001b[0m\u001b[1;33m)\u001b[0m\u001b[1;33m)\u001b[0m\u001b[1;33m:\u001b[0m\u001b[1;33m\u001b[0m\u001b[1;33m\u001b[0m\u001b[0m\n\u001b[1;32m---> 27\u001b[1;33m         \u001b[0mdis\u001b[0m \u001b[1;33m+=\u001b[0m \u001b[0mabs\u001b[0m\u001b[1;33m(\u001b[0m\u001b[0mPoint1\u001b[0m\u001b[1;33m[\u001b[0m\u001b[0mi\u001b[0m\u001b[1;33m]\u001b[0m \u001b[1;33m-\u001b[0m \u001b[0mPoint2\u001b[0m\u001b[1;33m[\u001b[0m\u001b[0mi\u001b[0m\u001b[1;33m]\u001b[0m\u001b[1;33m)\u001b[0m\u001b[1;33m\u001b[0m\u001b[1;33m\u001b[0m\u001b[0m\n\u001b[0m\u001b[0;32m     28\u001b[0m     \u001b[1;32mreturn\u001b[0m \u001b[0mdis\u001b[0m\u001b[1;33m\u001b[0m\u001b[1;33m\u001b[0m\u001b[0m\n\u001b[0;32m     29\u001b[0m \u001b[1;33m\u001b[0m\u001b[0m\n",
      "\u001b[1;31mKeyboardInterrupt\u001b[0m: "
     ]
    }
   ],
   "source": [
    "f = open(\"best_20Percent_Gbest.txt\", \"w\")\n",
    "random.seed(722)\n",
    "data = np.array(Trained_data)\n",
    "QTS_test = QTS(10, 10000, 32, 0.01)\n",
    "for i in range(QTS_test.max_cycle):\n",
    "    QTS_test.generate_new_population()\n",
    "    fitness(QTS_test, data)\n",
    "    QTS_test.selection_find_max()\n",
    "    QTS_test.update_G()\n",
    "    if i % 500 == 0:\n",
    "        print(\"Now:\", i)\n",
    "        print(QTS_test.Q_matrix)\n",
    "    for j in range(len(QTS_test.best)):\n",
    "        if j != len(QTS_test.best)-1:\n",
    "            print(str(int(QTS_test.best[j])), end=\" \", file=f)\n",
    "        else:\n",
    "            print(str(QTS_test.best[j]), file=f)\n",
    "print(QTS_test.fitness)\n",
    "f.close()"
   ]
  },
  {
   "cell_type": "code",
   "execution_count": 81,
   "metadata": {},
   "outputs": [],
   "source": [
    "f.close()"
   ]
  },
  {
   "cell_type": "code",
   "execution_count": null,
   "metadata": {},
   "outputs": [
    {
     "data": {
      "text/plain": [
       "[0.5345791128187216,\n",
       " 0.5345791128187216,\n",
       " 0.5345791128187216,\n",
       " 0.5345791128187216,\n",
       " 0.5345791128187216,\n",
       " 0.5345791128187216,\n",
       " 0.5345791128187216,\n",
       " 0.5345791128187216,\n",
       " 0.5345791128187216,\n",
       " 0.4529101705140825]"
      ]
     },
     "execution_count": 71,
     "metadata": {},
     "output_type": "execute_result"
    }
   ],
   "source": [
    "#範例\n",
    "Trained_data = pd.read_csv(\"basic_trained_data_20Percent.csv\" , sep = \",\" , encoding = 'utf-8')\n",
    "Test_data = pd.read_csv(\"basic_tested_data.csv\" , sep = \",\" , encoding = 'utf-8')\n",
    "data = np.array(Trained_data)\n",
    "\n",
    "random.seed(722)\n",
    "QTS_1 = QTS(100, 10000, sum(encode_num), 0.004)\n",
    "for i in range(QTS_1.max_cycle):\n",
    "    QTS_1.generate_new_population()\n",
    "    fitness(QTS_1, data)\n",
    "    QTS_1.selection_find_max()\n",
    "    QTS_1.update\n",
    "print(QTS_1.best)"
   ]
  },
  {
   "cell_type": "code",
   "execution_count": 82,
   "metadata": {},
   "outputs": [
    {
     "data": {
      "text/plain": [
       "[1.0000000000000004,\n",
       " -4.163336342344337e-16,\n",
       " -4.163336342344337e-16,\n",
       " 1.0000000000000004,\n",
       " -4.163336342344337e-16,\n",
       " -4.163336342344337e-16,\n",
       " -4.163336342344337e-16,\n",
       " -4.163336342344337e-16,\n",
       " -4.163336342344337e-16,\n",
       " -4.163336342344337e-16,\n",
       " -4.163336342344337e-16,\n",
       " 1.0000000000000004,\n",
       " 1.0000000000000004,\n",
       " 1.0000000000000004,\n",
       " 1.0000000000000004,\n",
       " 1.0000000000000004,\n",
       " -4.163336342344337e-16,\n",
       " 1.0000000000000004,\n",
       " -4.163336342344337e-16,\n",
       " 1.0000000000000004,\n",
       " -4.163336342344337e-16,\n",
       " 1.0000000000000004,\n",
       " -4.163336342344337e-16,\n",
       " 1.0000000000000004,\n",
       " 1.0000000000000004,\n",
       " -4.163336342344337e-16,\n",
       " -4.163336342344337e-16,\n",
       " 1.0000000000000004,\n",
       " 1.0000000000000004,\n",
       " -4.163336342344337e-16,\n",
       " -4.163336342344337e-16,\n",
       " -4.163336342344337e-16,\n",
       " 1.0000000000000004,\n",
       " -4.163336342344337e-16,\n",
       " 1.0000000000000004,\n",
       " -4.163336342344337e-16,\n",
       " 1.0000000000000004,\n",
       " -4.163336342344337e-16,\n",
       " -4.163336342344337e-16,\n",
       " 1.0000000000000004,\n",
       " 1.0000000000000004,\n",
       " -4.163336342344337e-16,\n",
       " 1.0000000000000004,\n",
       " -4.163336342344337e-16,\n",
       " -4.163336342344337e-16,\n",
       " 1.0000000000000004,\n",
       " 1.0000000000000004,\n",
       " 1.0000000000000004,\n",
       " 1.0000000000000004,\n",
       " 1.0000000000000004,\n",
       " -4.163336342344337e-16,\n",
       " 1.0000000000000004,\n",
       " 1.0000000000000004,\n",
       " -4.163336342344337e-16,\n",
       " -4.163336342344337e-16,\n",
       " 1.0000000000000004,\n",
       " -4.163336342344337e-16,\n",
       " -4.163336342344337e-16,\n",
       " -4.163336342344337e-16,\n",
       " -4.163336342344337e-16,\n",
       " 1.0000000000000004,\n",
       " -4.163336342344337e-16,\n",
       " 1.0000000000000004,\n",
       " -4.163336342344337e-16,\n",
       " 1.0000000000000004,\n",
       " -4.163336342344337e-16,\n",
       " 1.0000000000000004,\n",
       " 1.0000000000000004,\n",
       " 1.0000000000000004,\n",
       " -4.163336342344337e-16,\n",
       " 1.0000000000000004,\n",
       " -4.163336342344337e-16,\n",
       " -4.163336342344337e-16,\n",
       " 1.0000000000000004,\n",
       " -4.163336342344337e-16,\n",
       " 1.0000000000000004,\n",
       " -4.163336342344337e-16,\n",
       " -4.163336342344337e-16,\n",
       " -4.163336342344337e-16,\n",
       " -4.163336342344337e-16,\n",
       " -4.163336342344337e-16,\n",
       " 1.0000000000000004,\n",
       " -4.163336342344337e-16,\n",
       " 1.0000000000000004,\n",
       " -4.163336342344337e-16,\n",
       " 1.0000000000000004,\n",
       " 1.0000000000000004,\n",
       " 1.0000000000000004,\n",
       " 1.0000000000000004]"
      ]
     },
     "execution_count": 82,
     "metadata": {},
     "output_type": "execute_result"
    }
   ],
   "source": [
    "QTS_0.Q_matrix"
   ]
  },
  {
   "cell_type": "code",
   "execution_count": 46,
   "metadata": {},
   "outputs": [
    {
     "data": {
      "text/plain": [
       "array([1, 0, 0, 0, 0, 0, 1], dtype=int64)"
      ]
     },
     "execution_count": 46,
     "metadata": {},
     "output_type": "execute_result"
    }
   ],
   "source": [
    "Trained_data = pd.read_csv(\"basic_trained_data.csv\" , sep = \",\" , encoding = 'utf-8')\n",
    "Test_data = pd.read_csv(\"basic_tested_data.csv\" , sep = \",\" , encoding = 'utf-8')\n",
    "data = np.array(Trained_data)"
   ]
  },
  {
   "cell_type": "code",
   "execution_count": 78,
   "metadata": {},
   "outputs": [],
   "source": [
    "f.close()"
   ]
  },
  {
   "cell_type": "code",
   "execution_count": 34,
   "metadata": {},
   "outputs": [
    {
     "data": {
      "text/plain": [
       "[17, 32, 32, 3, 5]"
      ]
     },
     "execution_count": 34,
     "metadata": {},
     "output_type": "execute_result"
    }
   ],
   "source": [
    "encode_num"
   ]
  }
 ],
 "metadata": {
  "kernelspec": {
   "display_name": "Python 3",
   "language": "python",
   "name": "python3"
  },
  "language_info": {
   "codemirror_mode": {
    "name": "ipython",
    "version": 3
   },
   "file_extension": ".py",
   "mimetype": "text/x-python",
   "name": "python",
   "nbconvert_exporter": "python",
   "pygments_lexer": "ipython3",
   "version": "3.10.10 (tags/v3.10.10:aad5f6a, Feb  7 2023, 17:20:36) [MSC v.1929 64 bit (AMD64)]"
  },
  "orig_nbformat": 4,
  "vscode": {
   "interpreter": {
    "hash": "7b1f2b33e866b0bf2409397e5f58ba9cdf170d3b7f64c8f359c79998e2f88ad4"
   }
  }
 },
 "nbformat": 4,
 "nbformat_minor": 2
}
