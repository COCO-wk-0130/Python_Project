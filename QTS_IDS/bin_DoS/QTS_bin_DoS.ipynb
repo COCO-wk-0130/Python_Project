{
 "cells": [
  {
   "cell_type": "code",
   "execution_count": 13,
   "metadata": {},
   "outputs": [],
   "source": [
    "import numpy as np\n",
    "import pandas as pd\n",
    "from numpy.random import default_rng\n",
    "\n",
    "encode_num = [7, 7, 7, 7, 7, 7, 7]\n",
    "\n",
    "#二進位轉十進位\n",
    "def bin2dec(bin):\n",
    "    result = 0\n",
    "    #here\n",
    "    for i in range(len(bin)-1, -1, -1):\n",
    "        result += pow(2, len(bin)-i-1) * bin[i]\n",
    "    return result\n",
    "\n",
    "def generate_rule(Qbits):\n",
    "    rule = []\n",
    "    index = 0\n",
    "    for i in range(len(encode_num)):\n",
    "        temp = []\n",
    "        if Qbits[index] == 1:\n",
    "            temp.append(\">\")\n",
    "        else:\n",
    "            temp.append(\"<=\")\n",
    "        temp.append(bin2dec(Qbits[index+1:index+encode_num[i]]))\n",
    "        rule.append(temp)\n",
    "        index += encode_num[i]\n",
    "    return rule\n",
    "\n",
    "#fitness的計算根據問題會不一樣，這裡使用ABS當範例\n",
    "def fitness(QTS, data):\n",
    "    for i in range(QTS.population_size):\n",
    "        QTS.fitness[i] = 0\n",
    "        rule = generate_rule(QTS.Population[i])\n",
    "        for d in data:\n",
    "            token = True\n",
    "            for j in range(len(encode_num)):\n",
    "                if rule[j][0] == \">\":\n",
    "                    if d[j+1] <= rule[j][1]:\n",
    "                        token = False\n",
    "                        break\n",
    "                elif d[j+1] > rule[j][1]:\n",
    "                    token = False\n",
    "                    break\n",
    "            if (token == True and d[-1] == 1) or (token == False and d[-1] == 0):\n",
    "                QTS.fitness[i] += 1\n",
    "        QTS.fitness[i] /= len(data)\n",
    "                       \n",
    "class QTS:\n",
    "    #初始化\n",
    "    def __init__(self, population_size = 10, max_cycle = 100, Qbit_num = 10, theta = 0.01):\n",
    "        self.population_size = population_size\n",
    "        self.max_cycle = max_cycle\n",
    "        self.Qbit_num = Qbit_num\n",
    "        self.theta = theta\n",
    "        self.Population = np.zeros((population_size, Qbit_num))\n",
    "        self.Q_matrix = [0.5 for i in range(Qbit_num)]\n",
    "        self.fitness = [None for i in range(population_size)]\n",
    "        self.best_index = -1\n",
    "        self.worst_index = -1\n",
    "        self.best = [None for i in range(Qbit_num)]\n",
    "        self.dice = default_rng(500)\n",
    "    \n",
    "    #設定旋轉角度\n",
    "    def set_theta(self, new_theta):\n",
    "        self.theta = new_theta\n",
    "    \n",
    "    #生成新的Population\n",
    "    def generate_new_population(self):\n",
    "        for i in range(self.population_size):\n",
    "            self.Population[i] = self.dice.random(self.Qbit_num)\n",
    "            #here\n",
    "            self.Population[i] = np.where(self.Population[i] > self.Q_matrix, 1, 0)\n",
    "    \n",
    "    #找出最佳及最差的粒子(min為最佳)\n",
    "    def selection_find_min(self):\n",
    "        self.best_index = self.fitness.index(min(self.fitness))\n",
    "        self.worst_index = self.fitness.index(max(self.fitness))\n",
    "        #here\n",
    "        if self.best[-1] == None:\n",
    "            self.best = self.Population[self.best_index]\n",
    "            self.best = np.append(self.best, min(self.fitness))\n",
    "        elif min(self.fitness) < self.best[-1]:\n",
    "            self.best = self.Population[self.best_index]\n",
    "            self.best = np.append(self.best, min(self.fitness))\n",
    "    \n",
    "    #找出最佳及最差的粒子(max為最佳)\n",
    "    def selection_find_max(self):\n",
    "        self.best_index = self.fitness.index(max(self.fitness))\n",
    "        self.worst_index =self.fitness.index(min(self.fitness))\n",
    "        #here\n",
    "        if self.best[-1] == None:\n",
    "            self.best = self.Population[self.best_index]\n",
    "            self.best = np.append(self.best, max(self.fitness))\n",
    "        elif max(self.fitness) > self.best[-1]:\n",
    "            self.best = self.Population[self.best_index]\n",
    "            self.best = np.append(self.best, max(self.fitness))\n",
    "    \n",
    "    #更新Qmatrix\n",
    "    def update(self):\n",
    "        for i in range(self.Qbit_num):\n",
    "            if self.Population[self.best_index][i] != self.Population[self.worst_index][i]:\n",
    "                if self.Population[self.best_index][i] == 1:\n",
    "                    self.Q_matrix[i] -= self.theta\n",
    "                else:\n",
    "                    self.Q_matrix[i] += self.theta\n",
    "                    \n",
    "    #更新Qmatrix, Gbest\n",
    "    #here\n",
    "    def update_G(self):\n",
    "        for i in range(self.Qbit_num):\n",
    "            if self.best[i] != self.Population[self.worst_index][i]:\n",
    "                if self.best[i] == 1:\n",
    "                    self.Q_matrix[i] -= self.theta\n",
    "                else:\n",
    "                    self.Q_matrix[i] += self.theta\n",
    "    \n",
    "    #簡易測試\n",
    "    def run(self):\n",
    "        for i in range(self.max_cycle):\n",
    "            self.generate_new_population()\n",
    "            fitness(self)\n",
    "            self.selection_find_min()\n",
    "            self.update()\n",
    "            print(self.fitness)\n",
    "            print(self.best)"
   ]
  },
  {
   "cell_type": "code",
   "execution_count": 14,
   "metadata": {},
   "outputs": [
    {
     "name": "stdout",
     "output_type": "stream",
     "text": [
      "[0.         0.         0.         0.         0.         0.\n",
      " 0.         0.         0.         0.         0.         1.\n",
      " 0.         0.         0.         1.         1.         1.\n",
      " 1.         1.         0.         0.         1.         1.\n",
      " 0.         0.         0.         1.         0.         1.\n",
      " 0.         1.         1.         0.         0.         0.\n",
      " 0.         1.         0.         0.         1.         1.\n",
      " 0.         1.         0.         0.         0.         1.\n",
      " 1.         0.92839234]\n"
     ]
    }
   ],
   "source": [
    "#範例\n",
    "\n",
    "Trained_data = pd.read_csv(\"0209_bin_data_DOS.csv\" , sep = \",\" , encoding = 'utf-8')\n",
    "data = np.array(Trained_data)\n",
    "\n",
    "QTS_1 = QTS(10, 2000, sum(encode_num), 0.0004)\n",
    "for i in range(QTS_1.max_cycle):\n",
    "    QTS_1.generate_new_population()\n",
    "    fitness(QTS_1, data)\n",
    "    QTS_1.selection_find_max()\n",
    "    QTS_1.update()\n",
    "print(QTS_1.best)"
   ]
  },
  {
   "cell_type": "code",
   "execution_count": 15,
   "metadata": {},
   "outputs": [],
   "source": [
    "#範例\n",
    "\n",
    "Trained_data = pd.read_csv(\"0209_bin_data_DOS.csv\" , sep = \",\" , encoding = 'utf-8')\n",
    "data = np.array(Trained_data)\n",
    "\n",
    "QTS_G = QTS(10, 2000, sum(encode_num), 0.0004)\n",
    "for i in range(QTS_G.max_cycle):\n",
    "    QTS_G.generate_new_population()\n",
    "    fitness(QTS_G, data)\n",
    "    QTS_G.selection_find_max()\n",
    "    QTS_G.update_G()\n",
    "print(QTS_G.best)"
   ]
  },
  {
   "cell_type": "code",
   "execution_count": 13,
   "metadata": {},
   "outputs": [
    {
     "data": {
      "text/plain": [
       "45217.0"
      ]
     },
     "execution_count": 13,
     "metadata": {},
     "output_type": "execute_result"
    }
   ],
   "source": [
    "\n",
    "data = np.array(Trained_data)\n",
    "QTS_test = QTS(10, 10000, sum(encode_num), 0.004)\n",
    "QTS_test.generate_new_population()\n",
    "rules = []\n",
    "bin2dec(QTS_test.Population[0][1:17])"
   ]
  },
  {
   "cell_type": "code",
   "execution_count": null,
   "metadata": {},
   "outputs": [
    {
     "data": {
      "text/html": [
       "<div>\n",
       "<style scoped>\n",
       "    .dataframe tbody tr th:only-of-type {\n",
       "        vertical-align: middle;\n",
       "    }\n",
       "\n",
       "    .dataframe tbody tr th {\n",
       "        vertical-align: top;\n",
       "    }\n",
       "\n",
       "    .dataframe thead th {\n",
       "        text-align: right;\n",
       "    }\n",
       "</style>\n",
       "<table border=\"1\" class=\"dataframe\">\n",
       "  <thead>\n",
       "    <tr style=\"text-align: right;\">\n",
       "      <th></th>\n",
       "      <th>duration</th>\n",
       "      <th>src_bytes</th>\n",
       "      <th>dst_bytes</th>\n",
       "      <th>wrong_fragment</th>\n",
       "      <th>urgent</th>\n",
       "      <th>attack_state</th>\n",
       "    </tr>\n",
       "  </thead>\n",
       "  <tbody>\n",
       "    <tr>\n",
       "      <th>count</th>\n",
       "      <td>22544.000000</td>\n",
       "      <td>2.254400e+04</td>\n",
       "      <td>2.254400e+04</td>\n",
       "      <td>22544.000000</td>\n",
       "      <td>22544.000000</td>\n",
       "      <td>22544.000000</td>\n",
       "    </tr>\n",
       "    <tr>\n",
       "      <th>mean</th>\n",
       "      <td>218.859076</td>\n",
       "      <td>1.039545e+04</td>\n",
       "      <td>2.056019e+03</td>\n",
       "      <td>0.008428</td>\n",
       "      <td>0.000710</td>\n",
       "      <td>0.569242</td>\n",
       "    </tr>\n",
       "    <tr>\n",
       "      <th>std</th>\n",
       "      <td>1407.176612</td>\n",
       "      <td>4.727864e+05</td>\n",
       "      <td>2.121930e+04</td>\n",
       "      <td>0.142599</td>\n",
       "      <td>0.036473</td>\n",
       "      <td>0.495193</td>\n",
       "    </tr>\n",
       "    <tr>\n",
       "      <th>min</th>\n",
       "      <td>0.000000</td>\n",
       "      <td>0.000000e+00</td>\n",
       "      <td>0.000000e+00</td>\n",
       "      <td>0.000000</td>\n",
       "      <td>0.000000</td>\n",
       "      <td>0.000000</td>\n",
       "    </tr>\n",
       "    <tr>\n",
       "      <th>25%</th>\n",
       "      <td>0.000000</td>\n",
       "      <td>0.000000e+00</td>\n",
       "      <td>0.000000e+00</td>\n",
       "      <td>0.000000</td>\n",
       "      <td>0.000000</td>\n",
       "      <td>0.000000</td>\n",
       "    </tr>\n",
       "    <tr>\n",
       "      <th>50%</th>\n",
       "      <td>0.000000</td>\n",
       "      <td>5.400000e+01</td>\n",
       "      <td>4.600000e+01</td>\n",
       "      <td>0.000000</td>\n",
       "      <td>0.000000</td>\n",
       "      <td>1.000000</td>\n",
       "    </tr>\n",
       "    <tr>\n",
       "      <th>75%</th>\n",
       "      <td>0.000000</td>\n",
       "      <td>2.870000e+02</td>\n",
       "      <td>6.010000e+02</td>\n",
       "      <td>0.000000</td>\n",
       "      <td>0.000000</td>\n",
       "      <td>1.000000</td>\n",
       "    </tr>\n",
       "    <tr>\n",
       "      <th>max</th>\n",
       "      <td>57715.000000</td>\n",
       "      <td>6.282565e+07</td>\n",
       "      <td>1.345927e+06</td>\n",
       "      <td>3.000000</td>\n",
       "      <td>3.000000</td>\n",
       "      <td>1.000000</td>\n",
       "    </tr>\n",
       "  </tbody>\n",
       "</table>\n",
       "</div>"
      ],
      "text/plain": [
       "           duration     src_bytes     dst_bytes  wrong_fragment        urgent  \\\n",
       "count  22544.000000  2.254400e+04  2.254400e+04    22544.000000  22544.000000   \n",
       "mean     218.859076  1.039545e+04  2.056019e+03        0.008428      0.000710   \n",
       "std     1407.176612  4.727864e+05  2.121930e+04        0.142599      0.036473   \n",
       "min        0.000000  0.000000e+00  0.000000e+00        0.000000      0.000000   \n",
       "25%        0.000000  0.000000e+00  0.000000e+00        0.000000      0.000000   \n",
       "50%        0.000000  5.400000e+01  4.600000e+01        0.000000      0.000000   \n",
       "75%        0.000000  2.870000e+02  6.010000e+02        0.000000      0.000000   \n",
       "max    57715.000000  6.282565e+07  1.345927e+06        3.000000      3.000000   \n",
       "\n",
       "       attack_state  \n",
       "count  22544.000000  \n",
       "mean       0.569242  \n",
       "std        0.495193  \n",
       "min        0.000000  \n",
       "25%        0.000000  \n",
       "50%        1.000000  \n",
       "75%        1.000000  \n",
       "max        1.000000  "
      ]
     },
     "metadata": {},
     "output_type": "display_data"
    }
   ],
   "source": [
    "basic_tested_data.describe()"
   ]
  },
  {
   "cell_type": "code",
   "execution_count": 11,
   "metadata": {},
   "outputs": [],
   "source": [
    "Trained_data = pd.read_csv(\"0209_bin_data_DOS.csv\" , sep = \",\" , encoding = 'utf-8')\n",
    "Trained_data = Trained_data.iloc[:,1:]\n",
    "data = np.array(Trained_data)"
   ]
  },
  {
   "cell_type": "code",
   "execution_count": 12,
   "metadata": {},
   "outputs": [
    {
     "name": "stdout",
     "output_type": "stream",
     "text": [
      "<class 'pandas.core.frame.DataFrame'>\n",
      "RangeIndex: 113270 entries, 0 to 113269\n",
      "Data columns (total 8 columns):\n",
      " #   Column                    Non-Null Count   Dtype  \n",
      "---  ------                    --------------   -----  \n",
      " 0   src_bytes                 113270 non-null  float64\n",
      " 1   diff_srv_rate             113270 non-null  float64\n",
      " 2   same_srv_rate             113270 non-null  float64\n",
      " 3   dst_bytes                 113270 non-null  float64\n",
      " 4   count                     113270 non-null  float64\n",
      " 5   dst_host_srv_serror_rate  113270 non-null  float64\n",
      " 6   dst_host_serror_rate      113270 non-null  float64\n",
      " 7   abnormal                  113270 non-null  int64  \n",
      "dtypes: float64(7), int64(1)\n",
      "memory usage: 6.9 MB\n"
     ]
    }
   ],
   "source": [
    "Trained_data.info()"
   ]
  },
  {
   "cell_type": "code",
   "execution_count": 46,
   "metadata": {},
   "outputs": [
    {
     "data": {
      "text/plain": [
       "array([1, 0, 0, 0, 0, 0, 1], dtype=int64)"
      ]
     },
     "execution_count": 46,
     "metadata": {},
     "output_type": "execute_result"
    }
   ],
   "source": [
    "Trained_data = pd.read_csv(\"basic_trained_data.csv\" , sep = \",\" , encoding = 'utf-8')\n",
    "Test_data = pd.read_csv(\"basic_tested_data.csv\" , sep = \",\" , encoding = 'utf-8')\n",
    "data = np.array(Trained_data)"
   ]
  },
  {
   "cell_type": "code",
   "execution_count": 78,
   "metadata": {},
   "outputs": [],
   "source": [
    "f.close()"
   ]
  },
  {
   "cell_type": "code",
   "execution_count": 34,
   "metadata": {},
   "outputs": [
    {
     "data": {
      "text/plain": [
       "[17, 32, 32, 3, 5]"
      ]
     },
     "execution_count": 34,
     "metadata": {},
     "output_type": "execute_result"
    }
   ],
   "source": [
    "encode_num"
   ]
  }
 ],
 "metadata": {
  "kernelspec": {
   "display_name": "Python 3",
   "language": "python",
   "name": "python3"
  },
  "language_info": {
   "codemirror_mode": {
    "name": "ipython",
    "version": 3
   },
   "file_extension": ".py",
   "mimetype": "text/x-python",
   "name": "python",
   "nbconvert_exporter": "python",
   "pygments_lexer": "ipython3",
   "version": "3.10.9 (tags/v3.10.9:1dd9be6, Dec  6 2022, 20:01:21) [MSC v.1934 64 bit (AMD64)]"
  },
  "orig_nbformat": 4,
  "vscode": {
   "interpreter": {
    "hash": "7b1f2b33e866b0bf2409397e5f58ba9cdf170d3b7f64c8f359c79998e2f88ad4"
   }
  }
 },
 "nbformat": 4,
 "nbformat_minor": 2
}
