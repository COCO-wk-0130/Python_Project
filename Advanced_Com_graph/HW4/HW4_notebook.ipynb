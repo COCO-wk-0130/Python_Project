{
 "cells": [
  {
   "cell_type": "code",
   "execution_count": null,
   "metadata": {},
   "outputs": [],
   "source": [
    "#Brute Force Method\n",
    "import cv2\n",
    "import numpy as np\n",
    "import os\n",
    "\n",
    "#\"算\"出mean, std\n",
    "def mean_std(img):\n",
    "    img_shape = np.shape(img)\n",
    "    #[B,G,R]\n",
    "    img_mean = [0, 0, 0]\n",
    "    img_std = [0, 0, 0]\n",
    "    for i in range(img_shape[0]):\n",
    "        for j in range(img_shape[1]):\n",
    "            for k in range(3):\n",
    "                img_mean[k] += img[i][j][k]\n",
    "    #every element in list divide 512*512\n",
    "    img_mean[:] = [x/(img_shape[0]*img_shape[1]) for x in img_mean]\n",
    "    for i in range(img_shape[0]):\n",
    "        for j in range(img_shape[1]):\n",
    "            for k in range(3):\n",
    "                img_std[k] += pow(img[i][j][k]-img_mean[k], 2)\n",
    "    return img_mean, img_std\n",
    "        \n",
    "def cal_hist_dis(img1, img2):\n",
    "    hist_dis = []\n",
    "    for i in range(3):\n",
    "        hist1 = cv2.calcHist([img1], [i], None, [256], [0, 256])\n",
    "        hist1 = cv2.normalize(hist1, hist1)\n",
    "        hist2 = cv2.calcHist([img2], [i], None, [256], [0, 256])\n",
    "        hist2 = cv2.normalize(hist2, hist2)\n",
    "        hist_dis.append(cv2.compareHist(hist1, hist2, cv2.HISTCMP_HELLINGER))\n",
    "    return hist_dis\n",
    "\n",
    "#計算最佳權重\n",
    "def Cal_opt_weights_Bru(target_img, source_img):\n",
    "    target_mean, target_std = mean_std(target_img)\n",
    "    source_mean, source_std = mean_std(source_img)\n",
    "    source_shape = np.shape(source_img)\n",
    "    result_img = np.zeros(source_shape[0]*source_shape[1]*3)\n",
    "    result_img = result_img.reshape(source_shape[0], source_shape[1], 3)\n",
    "    best_weight = [-1, -1, -1]\n",
    "    best_dis = []\n",
    "    for N in range(100):\n",
    "        w = N/100\n",
    "        BGR_weight = [w, w, w]\n",
    "        for i in range(source_shape[0]):\n",
    "            for j in range(source_shape[1]):\n",
    "                for k in range(3):\n",
    "                    result_img[i][j][k] = round(((target_std[k]*BGR_weight[k] + source_std[k]*(1-BGR_weight[k]))/source_std[k])*(source_img[i][j][k]-source_mean[k]) + target_mean[k]*BGR_weight[k] + source_mean[k]*(1-BGR_weight[k]))\n",
    "                    #將範圍維持在(0, 255)\n",
    "                    if result_img[i][j][k] < 0:\n",
    "                        result_img[i][j][k] = 0\n",
    "                    elif result_img[i][j][k] > 255:\n",
    "                        result_img[i][j][k] = 255\n",
    "        result_img = result_img.astype(\"uint8\")\n",
    "        source_hist_dis = cal_hist_dis(source_img, result_img)\n",
    "        target_hist_dis = cal_hist_dis(target_img, result_img)\n",
    "        if N == 0:\n",
    "            best_weight = [0, 0, 0]\n",
    "            for i in range(3):\n",
    "                best_dis.append(abs(source_hist_dis[i]-target_hist_dis[i]))\n",
    "        else:\n",
    "            for i in range(3):\n",
    "                dis = abs(source_hist_dis[i]-target_hist_dis[i])\n",
    "                if dis < best_dis[i]:\n",
    "                    best_dis[i] = dis\n",
    "                    best_weight[i] = w\n",
    "    print(best_dis)\n",
    "    return best_weight\n",
    "\n",
    "#執行顏色轉換\n",
    "def weighted_color_tranfer(target_img, source_img, BGR_weight = [1, 1, 1], target_mean=0, target_std=0, source_mean=0, source_std=0):\n",
    "    if target_mean == 0:\n",
    "        target_mean, target_std = mean_std(target_img)\n",
    "        source_mean, source_std = mean_std(source_img)\n",
    "    source_shape = np.shape(source_img)\n",
    "    result_img = np.zeros(source_shape[0]*source_shape[1]*3)\n",
    "    result_img = result_img.reshape(source_shape[0], source_shape[1], 3)\n",
    "    for i in range(source_shape[0]):\n",
    "        for j in range(source_shape[1]):\n",
    "            for k in range(3):\n",
    "                result_img[i][j][k] = round(((target_std[k]*BGR_weight[k] + source_std[k]*(1-BGR_weight[k]))/source_std[k])*(source_img[i][j][k]-source_mean[k]) + target_mean[k]*BGR_weight[k] + source_mean[k]*(1-BGR_weight[k]))\n",
    "                #將範圍維持在(0, 255)\n",
    "                if result_img[i][j][k] < 0:\n",
    "                    result_img[i][j][k] = 0\n",
    "                elif result_img[i][j][k] > 255:\n",
    "                    result_img[i][j][k] = 255\n",
    "    result_img = result_img.astype(\"uint8\")\n",
    "    return result_img\n",
    "\n",
    "def Cal_opt_weights_Bin(target_img, source_img):\n",
    "    target_mean, target_std = mean_std(target_img)\n",
    "    source_mean, source_std = mean_std(source_img)\n",
    "    \n",
    "    head = [0, 0, 0]\n",
    "    tail = [1, 1, 1]\n",
    "    \n",
    "    head_img = weighted_color_tranfer(target_img, source_img, head, target_mean, target_std, source_mean, source_std)\n",
    "    tail_img = weighted_color_tranfer(target_img, source_img, tail, target_mean, target_std, source_mean, source_std)\n",
    "    \n",
    "    head_source_dis = cal_hist_dis(head_img, source_img)\n",
    "    head_target_dis = cal_hist_dis(head_img, target_img)\n",
    "    head_hist_dis = [abs(head_source_dis[k]-head_target_dis[k]) for k in range(3)]\n",
    "    tail_source_dis = cal_hist_dis(tail_img, source_img)\n",
    "    tail_target_dis = cal_hist_dis(tail_img, target_img)\n",
    "    tail_hist_dis = [abs(tail_source_dis[k]-tail_target_dis[k]) for k in range(3)]\n",
    "    \n",
    "    for N in range(15):\n",
    "        mid = [(head[i] + tail[i])/2 for i in range(3)]\n",
    "        mid_img = weighted_color_tranfer(target_img, source_img, mid, target_mean, target_std, source_mean, source_std)\n",
    "        mid_source_dis = cal_hist_dis(mid_img, source_img)\n",
    "        mid_target_dis = cal_hist_dis(mid_img, target_img)\n",
    "        mid_hist_dis = [abs(mid_source_dis[k]-mid_target_dis[k]) for k in range(3)] \n",
    "        #update tail and head\n",
    "        for i in range(3):\n",
    "            if tail_hist_dis[i] > head_hist_dis[i]:\n",
    "                tail_hist_dis[i] = mid_hist_dis[i]\n",
    "                tail[i] = mid[i]\n",
    "            else:\n",
    "                head_hist_dis[i] = mid_hist_dis[i]\n",
    "                head[i] = mid[i]\n",
    "    best_weights = []\n",
    "    for i in range(3):\n",
    "        best_weights.append(min(tail[i], mid[i], head[i]))\n",
    "    return mid\n",
    "\n"
   ]
  },
  {
   "cell_type": "code",
   "execution_count": 7,
   "metadata": {},
   "outputs": [
    {
     "name": "stdout",
     "output_type": "stream",
     "text": [
      "[0.507598876953125, 0.500457763671875, 0.785064697265625]\n",
      "[0.967010498046875, 0.797943115234375, 0.984039306640625]\n",
      "[0.597625732421875, 0.705535888671875, 0.620880126953125]\n",
      "[0.500030517578125, 0.502044677734375, 0.531219482421875]\n",
      "[0.775360107421875, 0.843353271484375, 0.742401123046875]\n",
      "[0.500091552734375, 0.939727783203125, 0.889617919921875]\n"
     ]
    }
   ],
   "source": [
    "source_img_list = [\"kodim05.png\", \"kodim07.png\", \"kodim16.png\", \"kodim19.png\", \"kodim21.png\", \"kodim22.png\"]\n",
    "target_img_list = [\"kodim06.png\", \"kodim23.png\", \"kodim02.png\", \"kodim20.png\", \"kodim08.png\", \"kodim10.png\"]\n",
    "source_imgs = []\n",
    "target_imgs = []\n",
    "for i in range(6):\n",
    "    source_imgs.append(cv2.imread(\"./source/\"+source_img_list[i]))\n",
    "    target_imgs.append(cv2.imread(\"./target/\"+target_img_list[i]))\n",
    "\n",
    "for i in range(6):\n",
    "    weights = Cal_opt_weights_Bin(target_imgs[i], source_imgs[i])\n",
    "    print(weights)\n",
    "    img = weighted_color_tranfer(target_imgs[i], source_imgs[i], weights)\n",
    "    cv2.imwrite(f\"./result/WCT0{i+1}-Bin-{round(weights[0], 4)}-{round(weights[1], 4)}-{round(weights[2], 4)}.png\", img)"
   ]
  },
  {
   "cell_type": "code",
   "execution_count": 19,
   "metadata": {},
   "outputs": [
    {
     "ename": "TypeError",
     "evalue": "'int' object is not subscriptable",
     "output_type": "error",
     "traceback": [
      "\u001b[1;31m---------------------------------------------------------------------------\u001b[0m",
      "\u001b[1;31mTypeError\u001b[0m                                 Traceback (most recent call last)",
      "\u001b[1;32m~\\AppData\\Local\\Temp\\ipykernel_2964\\3050647063.py\u001b[0m in \u001b[0;36m<module>\u001b[1;34m\u001b[0m\n\u001b[1;32m----> 1\u001b[1;33m \u001b[0mimg\u001b[0m \u001b[1;33m=\u001b[0m \u001b[0mweighted_color_tranfer\u001b[0m\u001b[1;33m(\u001b[0m\u001b[0mtarget_imgs\u001b[0m\u001b[1;33m[\u001b[0m\u001b[0mi\u001b[0m\u001b[1;33m]\u001b[0m\u001b[1;33m,\u001b[0m \u001b[0msource_imgs\u001b[0m\u001b[1;33m[\u001b[0m\u001b[0mi\u001b[0m\u001b[1;33m]\u001b[0m\u001b[1;33m,\u001b[0m \u001b[0mweights\u001b[0m\u001b[1;33m)\u001b[0m\u001b[1;33m\u001b[0m\u001b[1;33m\u001b[0m\u001b[0m\n\u001b[0m",
      "\u001b[1;32m~\\AppData\\Local\\Temp\\ipykernel_2964\\261747198.py\u001b[0m in \u001b[0;36mweighted_color_tranfer\u001b[1;34m(target_img, source_img, BGR_weight, target_mean, target_std, source_mean, source_std)\u001b[0m\n\u001b[0;32m     79\u001b[0m         \u001b[1;32mfor\u001b[0m \u001b[0mj\u001b[0m \u001b[1;32min\u001b[0m \u001b[0mrange\u001b[0m\u001b[1;33m(\u001b[0m\u001b[0msource_shape\u001b[0m\u001b[1;33m[\u001b[0m\u001b[1;36m1\u001b[0m\u001b[1;33m]\u001b[0m\u001b[1;33m)\u001b[0m\u001b[1;33m:\u001b[0m\u001b[1;33m\u001b[0m\u001b[1;33m\u001b[0m\u001b[0m\n\u001b[0;32m     80\u001b[0m             \u001b[1;32mfor\u001b[0m \u001b[0mk\u001b[0m \u001b[1;32min\u001b[0m \u001b[0mrange\u001b[0m\u001b[1;33m(\u001b[0m\u001b[1;36m3\u001b[0m\u001b[1;33m)\u001b[0m\u001b[1;33m:\u001b[0m\u001b[1;33m\u001b[0m\u001b[1;33m\u001b[0m\u001b[0m\n\u001b[1;32m---> 81\u001b[1;33m                 \u001b[0mresult_img\u001b[0m\u001b[1;33m[\u001b[0m\u001b[0mi\u001b[0m\u001b[1;33m]\u001b[0m\u001b[1;33m[\u001b[0m\u001b[0mj\u001b[0m\u001b[1;33m]\u001b[0m\u001b[1;33m[\u001b[0m\u001b[0mk\u001b[0m\u001b[1;33m]\u001b[0m \u001b[1;33m=\u001b[0m \u001b[0mround\u001b[0m\u001b[1;33m(\u001b[0m\u001b[1;33m(\u001b[0m\u001b[1;33m(\u001b[0m\u001b[0mtarget_std\u001b[0m\u001b[1;33m[\u001b[0m\u001b[0mk\u001b[0m\u001b[1;33m]\u001b[0m\u001b[1;33m*\u001b[0m\u001b[0mBGR_weight\u001b[0m\u001b[1;33m[\u001b[0m\u001b[0mk\u001b[0m\u001b[1;33m]\u001b[0m \u001b[1;33m+\u001b[0m \u001b[0msource_std\u001b[0m\u001b[1;33m[\u001b[0m\u001b[0mk\u001b[0m\u001b[1;33m]\u001b[0m\u001b[1;33m*\u001b[0m\u001b[1;33m(\u001b[0m\u001b[1;36m1\u001b[0m\u001b[1;33m-\u001b[0m\u001b[0mBGR_weight\u001b[0m\u001b[1;33m[\u001b[0m\u001b[0mk\u001b[0m\u001b[1;33m]\u001b[0m\u001b[1;33m)\u001b[0m\u001b[1;33m)\u001b[0m\u001b[1;33m/\u001b[0m\u001b[0msource_std\u001b[0m\u001b[1;33m[\u001b[0m\u001b[0mk\u001b[0m\u001b[1;33m]\u001b[0m\u001b[1;33m)\u001b[0m\u001b[1;33m*\u001b[0m\u001b[1;33m(\u001b[0m\u001b[0msource_img\u001b[0m\u001b[1;33m[\u001b[0m\u001b[0mi\u001b[0m\u001b[1;33m]\u001b[0m\u001b[1;33m[\u001b[0m\u001b[0mj\u001b[0m\u001b[1;33m]\u001b[0m\u001b[1;33m[\u001b[0m\u001b[0mk\u001b[0m\u001b[1;33m]\u001b[0m\u001b[1;33m-\u001b[0m\u001b[0msource_mean\u001b[0m\u001b[1;33m[\u001b[0m\u001b[0mk\u001b[0m\u001b[1;33m]\u001b[0m\u001b[1;33m)\u001b[0m \u001b[1;33m+\u001b[0m \u001b[0mtarget_mean\u001b[0m\u001b[1;33m[\u001b[0m\u001b[0mk\u001b[0m\u001b[1;33m]\u001b[0m\u001b[1;33m*\u001b[0m\u001b[0mBGR_weight\u001b[0m\u001b[1;33m[\u001b[0m\u001b[0mk\u001b[0m\u001b[1;33m]\u001b[0m \u001b[1;33m+\u001b[0m \u001b[0msource_mean\u001b[0m\u001b[1;33m[\u001b[0m\u001b[0mk\u001b[0m\u001b[1;33m]\u001b[0m\u001b[1;33m*\u001b[0m\u001b[1;33m(\u001b[0m\u001b[1;36m1\u001b[0m\u001b[1;33m-\u001b[0m\u001b[0mBGR_weight\u001b[0m\u001b[1;33m[\u001b[0m\u001b[0mk\u001b[0m\u001b[1;33m]\u001b[0m\u001b[1;33m)\u001b[0m\u001b[1;33m)\u001b[0m\u001b[1;33m\u001b[0m\u001b[1;33m\u001b[0m\u001b[0m\n\u001b[0m\u001b[0;32m     82\u001b[0m                 \u001b[1;31m#將範圍維持在(0, 255)\u001b[0m\u001b[1;33m\u001b[0m\u001b[1;33m\u001b[0m\u001b[1;33m\u001b[0m\u001b[0m\n\u001b[0;32m     83\u001b[0m                 \u001b[1;32mif\u001b[0m \u001b[0mresult_img\u001b[0m\u001b[1;33m[\u001b[0m\u001b[0mi\u001b[0m\u001b[1;33m]\u001b[0m\u001b[1;33m[\u001b[0m\u001b[0mj\u001b[0m\u001b[1;33m]\u001b[0m\u001b[1;33m[\u001b[0m\u001b[0mk\u001b[0m\u001b[1;33m]\u001b[0m \u001b[1;33m<\u001b[0m \u001b[1;36m0\u001b[0m\u001b[1;33m:\u001b[0m\u001b[1;33m\u001b[0m\u001b[1;33m\u001b[0m\u001b[0m\n",
      "\u001b[1;31mTypeError\u001b[0m: 'int' object is not subscriptable"
     ]
    }
   ],
   "source": [
    "for i in range(1):\n",
    "    weights = Cal_opt_weights_Bin(target_imgs[i], source_imgs[i])\n",
    "    print(weights)\n",
    "    img = weighted_color_tranfer(target_imgs[i], source_imgs[i], weights)\n",
    "    cv2.imwrite(f\"./result/WCT0{i+1}-Bin-{weights[0]}-{weights[1]}-{weights[2]}.png\", img)"
   ]
  },
  {
   "cell_type": "code",
   "execution_count": 7,
   "metadata": {},
   "outputs": [
    {
     "ename": "KeyboardInterrupt",
     "evalue": "",
     "output_type": "error",
     "traceback": [
      "\u001b[1;31m---------------------------------------------------------------------------\u001b[0m",
      "\u001b[1;31mKeyboardInterrupt\u001b[0m                         Traceback (most recent call last)",
      "\u001b[1;32m~\\AppData\\Local\\Temp/ipykernel_10500/2009529519.py\u001b[0m in \u001b[0;36m<module>\u001b[1;34m\u001b[0m\n\u001b[0;32m      6\u001b[0m     \u001b[0mtarget_img\u001b[0m \u001b[1;33m=\u001b[0m \u001b[0mcv2\u001b[0m\u001b[1;33m.\u001b[0m\u001b[0mimread\u001b[0m\u001b[1;33m(\u001b[0m\u001b[0mtarget_path\u001b[0m\u001b[1;33m)\u001b[0m\u001b[1;33m\u001b[0m\u001b[1;33m\u001b[0m\u001b[0m\n\u001b[0;32m      7\u001b[0m     \u001b[0msource_img\u001b[0m \u001b[1;33m=\u001b[0m \u001b[0mcv2\u001b[0m\u001b[1;33m.\u001b[0m\u001b[0mimread\u001b[0m\u001b[1;33m(\u001b[0m\u001b[0msource_path\u001b[0m\u001b[1;33m)\u001b[0m\u001b[1;33m\u001b[0m\u001b[1;33m\u001b[0m\u001b[0m\n\u001b[1;32m----> 8\u001b[1;33m     \u001b[0mweights\u001b[0m \u001b[1;33m=\u001b[0m \u001b[0mCal_opt_weights_Bru\u001b[0m\u001b[1;33m(\u001b[0m\u001b[0mtarget_img\u001b[0m\u001b[1;33m,\u001b[0m \u001b[0msource_img\u001b[0m\u001b[1;33m)\u001b[0m\u001b[1;33m\u001b[0m\u001b[1;33m\u001b[0m\u001b[0m\n\u001b[0m\u001b[0;32m      9\u001b[0m     \u001b[0mimg\u001b[0m \u001b[1;33m=\u001b[0m \u001b[0mweighted_color_tranfer\u001b[0m\u001b[1;33m(\u001b[0m\u001b[0mtarget_img\u001b[0m\u001b[1;33m,\u001b[0m \u001b[0msource_img\u001b[0m\u001b[1;33m,\u001b[0m \u001b[0mweights\u001b[0m\u001b[1;33m)\u001b[0m\u001b[1;33m\u001b[0m\u001b[1;33m\u001b[0m\u001b[0m\n\u001b[0;32m     10\u001b[0m     \u001b[0mcv2\u001b[0m\u001b[1;33m.\u001b[0m\u001b[0mimwrite\u001b[0m\u001b[1;33m(\u001b[0m\u001b[1;34mf\"./result/WCT0{i+1}-Bin-{round(weights[0], 4)}-{round(weights[1], 4)}-{round(weights[2], 4)}.png\"\u001b[0m\u001b[1;33m,\u001b[0m \u001b[0mimg\u001b[0m\u001b[1;33m)\u001b[0m\u001b[1;33m\u001b[0m\u001b[1;33m\u001b[0m\u001b[0m\n",
      "\u001b[1;32m~\\AppData\\Local\\Temp/ipykernel_10500/4034315768.py\u001b[0m in \u001b[0;36mCal_opt_weights_Bru\u001b[1;34m(target_img, source_img)\u001b[0m\n\u001b[0;32m     49\u001b[0m                     \u001b[0mresult_img\u001b[0m\u001b[1;33m[\u001b[0m\u001b[0mi\u001b[0m\u001b[1;33m]\u001b[0m\u001b[1;33m[\u001b[0m\u001b[0mj\u001b[0m\u001b[1;33m]\u001b[0m\u001b[1;33m[\u001b[0m\u001b[0mk\u001b[0m\u001b[1;33m]\u001b[0m \u001b[1;33m=\u001b[0m \u001b[0mround\u001b[0m\u001b[1;33m(\u001b[0m\u001b[1;33m(\u001b[0m\u001b[1;33m(\u001b[0m\u001b[0mtarget_std\u001b[0m\u001b[1;33m[\u001b[0m\u001b[0mk\u001b[0m\u001b[1;33m]\u001b[0m\u001b[1;33m*\u001b[0m\u001b[0mBGR_weight\u001b[0m\u001b[1;33m[\u001b[0m\u001b[0mk\u001b[0m\u001b[1;33m]\u001b[0m \u001b[1;33m+\u001b[0m \u001b[0msource_std\u001b[0m\u001b[1;33m[\u001b[0m\u001b[0mk\u001b[0m\u001b[1;33m]\u001b[0m\u001b[1;33m*\u001b[0m\u001b[1;33m(\u001b[0m\u001b[1;36m1\u001b[0m\u001b[1;33m-\u001b[0m\u001b[0mBGR_weight\u001b[0m\u001b[1;33m[\u001b[0m\u001b[0mk\u001b[0m\u001b[1;33m]\u001b[0m\u001b[1;33m)\u001b[0m\u001b[1;33m)\u001b[0m\u001b[1;33m/\u001b[0m\u001b[0msource_std\u001b[0m\u001b[1;33m[\u001b[0m\u001b[0mk\u001b[0m\u001b[1;33m]\u001b[0m\u001b[1;33m)\u001b[0m\u001b[1;33m*\u001b[0m\u001b[1;33m(\u001b[0m\u001b[0msource_img\u001b[0m\u001b[1;33m[\u001b[0m\u001b[0mi\u001b[0m\u001b[1;33m]\u001b[0m\u001b[1;33m[\u001b[0m\u001b[0mj\u001b[0m\u001b[1;33m]\u001b[0m\u001b[1;33m[\u001b[0m\u001b[0mk\u001b[0m\u001b[1;33m]\u001b[0m\u001b[1;33m-\u001b[0m\u001b[0msource_mean\u001b[0m\u001b[1;33m[\u001b[0m\u001b[0mk\u001b[0m\u001b[1;33m]\u001b[0m\u001b[1;33m)\u001b[0m \u001b[1;33m+\u001b[0m \u001b[0mtarget_mean\u001b[0m\u001b[1;33m[\u001b[0m\u001b[0mk\u001b[0m\u001b[1;33m]\u001b[0m\u001b[1;33m*\u001b[0m\u001b[0mBGR_weight\u001b[0m\u001b[1;33m[\u001b[0m\u001b[0mk\u001b[0m\u001b[1;33m]\u001b[0m \u001b[1;33m+\u001b[0m \u001b[0msource_mean\u001b[0m\u001b[1;33m[\u001b[0m\u001b[0mk\u001b[0m\u001b[1;33m]\u001b[0m\u001b[1;33m*\u001b[0m\u001b[1;33m(\u001b[0m\u001b[1;36m1\u001b[0m\u001b[1;33m-\u001b[0m\u001b[0mBGR_weight\u001b[0m\u001b[1;33m[\u001b[0m\u001b[0mk\u001b[0m\u001b[1;33m]\u001b[0m\u001b[1;33m)\u001b[0m\u001b[1;33m)\u001b[0m\u001b[1;33m\u001b[0m\u001b[1;33m\u001b[0m\u001b[0m\n\u001b[0;32m     50\u001b[0m                     \u001b[1;31m#將範圍維持在(0, 255)\u001b[0m\u001b[1;33m\u001b[0m\u001b[1;33m\u001b[0m\u001b[1;33m\u001b[0m\u001b[0m\n\u001b[1;32m---> 51\u001b[1;33m                     \u001b[1;32mif\u001b[0m \u001b[0mresult_img\u001b[0m\u001b[1;33m[\u001b[0m\u001b[0mi\u001b[0m\u001b[1;33m]\u001b[0m\u001b[1;33m[\u001b[0m\u001b[0mj\u001b[0m\u001b[1;33m]\u001b[0m\u001b[1;33m[\u001b[0m\u001b[0mk\u001b[0m\u001b[1;33m]\u001b[0m \u001b[1;33m<\u001b[0m \u001b[1;36m0\u001b[0m\u001b[1;33m:\u001b[0m\u001b[1;33m\u001b[0m\u001b[1;33m\u001b[0m\u001b[0m\n\u001b[0m\u001b[0;32m     52\u001b[0m                         \u001b[0mresult_img\u001b[0m\u001b[1;33m[\u001b[0m\u001b[0mi\u001b[0m\u001b[1;33m]\u001b[0m\u001b[1;33m[\u001b[0m\u001b[0mj\u001b[0m\u001b[1;33m]\u001b[0m\u001b[1;33m[\u001b[0m\u001b[0mk\u001b[0m\u001b[1;33m]\u001b[0m \u001b[1;33m=\u001b[0m \u001b[1;36m0\u001b[0m\u001b[1;33m\u001b[0m\u001b[1;33m\u001b[0m\u001b[0m\n\u001b[0;32m     53\u001b[0m                     \u001b[1;32melif\u001b[0m \u001b[0mresult_img\u001b[0m\u001b[1;33m[\u001b[0m\u001b[0mi\u001b[0m\u001b[1;33m]\u001b[0m\u001b[1;33m[\u001b[0m\u001b[0mj\u001b[0m\u001b[1;33m]\u001b[0m\u001b[1;33m[\u001b[0m\u001b[0mk\u001b[0m\u001b[1;33m]\u001b[0m \u001b[1;33m>\u001b[0m \u001b[1;36m255\u001b[0m\u001b[1;33m:\u001b[0m\u001b[1;33m\u001b[0m\u001b[1;33m\u001b[0m\u001b[0m\n",
      "\u001b[1;31mKeyboardInterrupt\u001b[0m: "
     ]
    }
   ],
   "source": [
    "while True:\n",
    "    target = input(\"Imput the target image.\")\n",
    "    source = input(\"Input the source image.\")\n",
    "    target_path = \"./target/\"+target+\".png\"\n",
    "    source_path = \"./source/\"+source+\".png\"\n",
    "    target_img = cv2.imread(target_path)\n",
    "    source_img = cv2.imread(source_path)\n",
    "    weights = Cal_opt_weights_Bru(target_img, source_img)\n",
    "    img = weighted_color_tranfer(target_img, source_img, weights)\n",
    "    cv2.imwrite(f\"./result/WCT0{i+1}-Bin-{round(weights[0], 4)}-{round(weights[1], 4)}-{round(weights[2], 4)}.png\", img)"
   ]
  },
  {
   "cell_type": "code",
   "execution_count": 5,
   "metadata": {},
   "outputs": [
    {
     "data": {
      "text/plain": [
       "NoneType"
      ]
     },
     "execution_count": 5,
     "metadata": {},
     "output_type": "execute_result"
    }
   ],
   "source": [
    "target_img = cv2.imread(target_path)\n",
    "type(target_img)"
   ]
  }
 ],
 "metadata": {
  "kernelspec": {
   "display_name": "Python 3",
   "language": "python",
   "name": "python3"
  },
  "language_info": {
   "codemirror_mode": {
    "name": "ipython",
    "version": 3
   },
   "file_extension": ".py",
   "mimetype": "text/x-python",
   "name": "python",
   "nbconvert_exporter": "python",
   "pygments_lexer": "ipython3",
   "version": "3.11.2"
  },
  "orig_nbformat": 4,
  "vscode": {
   "interpreter": {
    "hash": "7b1f2b33e866b0bf2409397e5f58ba9cdf170d3b7f64c8f359c79998e2f88ad4"
   }
  }
 },
 "nbformat": 4,
 "nbformat_minor": 2
}
