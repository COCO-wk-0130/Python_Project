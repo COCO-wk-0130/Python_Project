{
 "cells": [
  {
   "cell_type": "code",
   "execution_count": 6,
   "id": "3344b451",
   "metadata": {},
   "outputs": [],
   "source": [
    "import cv2\n",
    "import numpy as np\n",
    "from math import*\n",
    "import matplotlib.pyplot as plt\n",
    "import os\n",
    "\n",
    "#印出mean, std\n",
    "def write_mean_std(img_name, n):\n",
    "    img = cv2.imread(img_name)\n",
    "    img_shape = np.shape(img)\n",
    "    #[B,G,R]\n",
    "    img_mean = [0, 0, 0]\n",
    "    img_std = [0, 0, 0]\n",
    "    for i in range(img_shape[0]):\n",
    "        for j in range(img_shape[1]):\n",
    "            for k in range(3):\n",
    "                img_mean[k] += img[i][j][k]\n",
    "    #every element in list divide 512*512\n",
    "    img_mean[:] = [x/(img_shape[0]*img_shape[1]) for x in img_mean]\n",
    "    for i in range(img_shape[0]):\n",
    "        for j in range(img_shape[1]):\n",
    "            for k in range(3):\n",
    "                img_std[k] += pow(img[i][j][k]-img_mean[k], 2)\n",
    "    img_std[:] = [sqrt(x/(img_shape[0]*img_shape[1])) for x in img_std]\n",
    "    if n < 9:\n",
    "        filename = \"./feature/0\"+str(n)+'_'+img_name[9:-4]+'_dec.csv'\n",
    "    else:\n",
    "        filename = \"./feature/\"+str(n)+'_'+img_name[9:-4]+'_dec.csv'\n",
    "    file = open(filename, 'w')\n",
    "    for i in range(2, -1, -1):\n",
    "        file.write(str(img_mean[i])+'\\n')\n",
    "        file.write(str(img_std[i])+'\\n')\n",
    "    file.close()\n",
    "\n",
    "#\"算\"出mean, std\n",
    "def mean_std(img_name):\n",
    "    img = cv2.imread(img_name)\n",
    "    img_shape = np.shape(img)\n",
    "    #[B,G,R]\n",
    "    img_mean = [0, 0, 0]\n",
    "    img_std = [0, 0, 0]\n",
    "    for i in range(img_shape[0]):\n",
    "        for j in range(img_shape[1]):\n",
    "            for k in range(3):\n",
    "                img_mean[k] += img[i][j][k]\n",
    "    #every element in list divide 512*512\n",
    "    img_mean[:] = [x/(img_shape[0]*img_shape[1]) for x in img_mean]\n",
    "    for i in range(img_shape[0]):\n",
    "        for j in range(img_shape[1]):\n",
    "            for k in range(3):\n",
    "                img_std[k] += pow(img[i][j][k]-img_mean[k], 2)\n",
    "    return img_mean, img_std\n",
    "\n",
    "#印出his\n",
    "def his(img_name):\n",
    "    BGR = []\n",
    "    BGR.append([0 for i in range(256)])\n",
    "    BGR.append([0 for i in range(256)])\n",
    "    BGR.append([0 for i in range(256)])\n",
    "    img = cv2.imread(img_name)\n",
    "    img_shape = np.shape(img)\n",
    "    for i in range(img_shape[0]):\n",
    "        for j in range(img_shape[1]):\n",
    "            for k in range(3):\n",
    "                BGR[k][img[i][j][k]]+=1\n",
    "    file = open(\"./result/\"+img_name[9:-4]+'-his.csv', 'w')\n",
    "    for i in range(256):\n",
    "        file.write(str(BGR[2][i])+\",\"+str(BGR[1][i])+\",\"+str(BGR[0][i])+\"\\n\")\n",
    "    file.close()\n",
    "    x = [i for i in range(256)]\n",
    "    plt.bar(x, BGR[2], color = \"r\")\n",
    "    plt.title(img_name+\"_Red_HIS\")\n",
    "    plt.show()\n",
    "    plt.bar(x, BGR[1], color = \"g\")\n",
    "    plt.title(img_name+\"_Green_HIS\")\n",
    "    plt.show()\n",
    "    plt.bar(x, BGR[0], color = \"b\")\n",
    "    plt.title(img_name+\"_Blue_HIS\")\n",
    "    plt.show()\n",
    "\n",
    "#執行顏色轉換\n",
    "def weighted_color_tranfer(target_path, source_path, BGR_weight = [1, 1, 1]):\n",
    "    target_mean, target_std = mean_std(target_path)\n",
    "    source_mean, source_std = mean_std(source_path)\n",
    "    source_img = cv2.imread(source_path)\n",
    "    source_shape = np.shape(source_img)\n",
    "    result_img = np.zeros(source_shape[0]*source_shape[1]*3)\n",
    "    result_img = result_img.reshape(source_shape[0], source_shape[1], 3)\n",
    "    for i in range(source_shape[0]):\n",
    "        for j in range(source_shape[1]):\n",
    "            for k in range(3):\n",
    "                result_img[i][j][k] = round(((target_std[k]*BGR_weight[k] + source_std[k]*(1-BGR_weight[k]))/source_std[k])*(source_img[i][j][k]-source_mean[k]) + target_mean[k]*BGR_weight[k] + source_mean[k]*(1-BGR_weight[k]))\n",
    "                #將範圍維持在(0, 255)\n",
    "                if result_img[i][j][k] < 0:\n",
    "                    result_img[i][j][k] = 0\n",
    "                elif result_img[i][j][k] > 255:\n",
    "                    result_img[i][j][k] = 255\n",
    "    return result_img\n",
    "\n",
    "#印出圖片\n",
    "def print_img(img):\n",
    "    cv2.imshow(\"img\", img)\n",
    "    cv2.waitKey()\n",
    "    cv2.destroyAllWindows()\n",
    "\n"
   ]
  },
  {
   "cell_type": "code",
   "execution_count": 7,
   "id": "30804dd2",
   "metadata": {},
   "outputs": [],
   "source": [
    "\n",
    "#main-01\n",
    "source_list = os.listdir(\"./source\")\n",
    "target_list = os.listdir(\"./target\")\n",
    "n = 1\n",
    "for img_name in source_list:\n",
    "    img_path = \"./source/\" + img_name\n",
    "    write_mean_std(img_path, n)\n",
    "    n+=1\n",
    "\n",
    "for img_name in target_list:\n",
    "    img_path = \"./target/\" + img_name\n",
    "    write_mean_std(img_path, n)\n",
    "    n+=1\n",
    "\n"
   ]
  },
  {
   "cell_type": "code",
   "execution_count": 5,
   "id": "366d9e11",
   "metadata": {},
   "outputs": [
    {
     "name": "stdout",
     "output_type": "stream",
     "text": [
      "./target/kodim06.png\n",
      "./source/kodim05.png\n"
     ]
    }
   ],
   "source": [
    "target = input(\"Imput the target image.\")\n",
    "source = input(\"Input the source image.\")\n",
    "B_weight = input(\"Input the Blue domain weight.[0, 1]\")\n",
    "G_weight = input(\"Input the Green domain weight.[0, 1]\")\n",
    "R_weight = input(\"Input the Red domain weight.[0, 1]\")\n",
    "target_path = \"./target/\"+target+\".png\"\n",
    "source_path = \"./source/\"+source+\".png\"\n",
    "result_path = './result/01_' + source + '_' + target + '.png'\n",
    "weight = [float(B_weight), float(G_weight), float(R_weight)]\n",
    "result_img = weighted_color_tranfer(target_path, source_path, weight)\n",
    "cv2.imwrite(result_path, result_img)"
   ]
  },
  {
   "cell_type": "code",
   "execution_count": 6,
   "id": "85579ab6",
   "metadata": {},
   "outputs": [
    {
     "data": {
      "text/plain": [
       "True"
      ]
     },
     "execution_count": 6,
     "metadata": {},
     "output_type": "execute_result"
    }
   ],
   "source": [
    "cv2.imwrite(result_path, result_img)"
   ]
  },
  {
   "cell_type": "code",
   "execution_count": null,
   "id": "541241d5",
   "metadata": {},
   "outputs": [],
   "source": [
    "\n",
    "result_img = weighted_color_tranfer(target_path, source_path, weight)\n",
    "cv2.imwrite(result_path, result_img)"
   ]
  }
 ],
 "metadata": {
  "kernelspec": {
   "display_name": "Python 3",
   "language": "python",
   "name": "python3"
  },
  "language_info": {
   "codemirror_mode": {
    "name": "ipython",
    "version": 3
   },
   "file_extension": ".py",
   "mimetype": "text/x-python",
   "name": "python",
   "nbconvert_exporter": "python",
   "pygments_lexer": "ipython3",
   "version": "3.8.11"
  },
  "vscode": {
   "interpreter": {
    "hash": "36dc208eefc6109defc7dee5be6b3e69c38161cadfba8ce22cb9fa3780462d58"
   }
  }
 },
 "nbformat": 4,
 "nbformat_minor": 5
}
