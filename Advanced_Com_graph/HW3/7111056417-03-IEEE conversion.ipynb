{
 "cells": [
  {
   "cell_type": "code",
   "execution_count": 144,
   "metadata": {},
   "outputs": [
    {
     "name": "stdout",
     "output_type": "stream",
     "text": [
      "Input the choice.\n",
      "1:Decimal to IEEE-754\n",
      "2:IEEE-755 to Decimal\n",
      "3:Finish\n",
      "Input the choice.\n",
      "1:Decimal to IEEE-754\n",
      "2:IEEE-755 to Decimal\n",
      "3:Finish\n"
     ]
    }
   ],
   "source": [
    "import struct\n",
    "import os\n",
    "import pandas as pd\n",
    " \n",
    "getBin = lambda x: x > 0 and str(bin(x))[2:] or \"-\" + str(bin(x))[3:]\n",
    " \n",
    "def floatToBinary64(value):\n",
    "    val = struct.unpack('Q', struct.pack('d', value))[0]\n",
    "    return getBin(val)\n",
    " \n",
    "def binaryToFloat(value):\n",
    "    hx = hex(int(value, 2))   \n",
    "    return struct.unpack(\"d\", struct.pack(\"q\", int(hx, 16)))[0]\n",
    "\n",
    "#main\n",
    "while True:\n",
    "    feature_list = os.listdir(\"./feature\")\n",
    "    print(\"Input the choice.\")\n",
    "    print(\"1:Decimal to IEEE-754\")\n",
    "    print(\"2:IEEE-755 to Decimal\")\n",
    "    print(\"3:Finish\")\n",
    "    Fnc = input()\n",
    "    if Fnc == \"1\":\n",
    "        for i in feature_list:\n",
    "            if i[-7:-4] != \"dec\":\n",
    "                continue\n",
    "            with open(\"./feature/\"+i) as file:\n",
    "                values = []\n",
    "                for lines in file:\n",
    "                    values.append(float(lines))\n",
    "            bins = []\n",
    "            for j in values:\n",
    "                bins.append(floatToBinary64(j))\n",
    "            filename = \"./feature/\" + i[:-7] + \"bin.csv\"\n",
    "            file = open(filename, \"w\")\n",
    "            for j in bins:\n",
    "                file.write(str(j)+\"\\n\")\n",
    "            file.close()\n",
    "    elif Fnc == \"2\":\n",
    "        for i in feature_list:\n",
    "            if i[-7:-4] != \"bin\":\n",
    "                continue\n",
    "            with open(\"./feature/\"+i) as file:\n",
    "                values = []\n",
    "                for lines in file:\n",
    "                    values.append(str(lines[:-1]))\n",
    "            decs = []\n",
    "            for j in values:\n",
    "                decs.append(binaryToFloat(j))\n",
    "            filename = \"./feature/\" + i[:-7] + \"dec.csv\"\n",
    "            file = open(filename, \"w\")\n",
    "            for j in decs:\n",
    "                file.write(str(round(j, 2))+\"\\n\")\n",
    "            file.close()\n",
    "    else:\n",
    "        break"
   ]
  },
  {
   "cell_type": "code",
   "execution_count": 143,
   "metadata": {},
   "outputs": [
    {
     "data": {
      "text/plain": [
       "['100000001010110111000000011011110000000000000000000000000000000\\n',\n",
       " '100000001001000100010001110000001100110110110000001011101100100\\n',\n",
       " '100000001010100010000010110001010000000000000000000000000000000\\n',\n",
       " '100000001001001101100110111001001110101010000000001100001010101\\n',\n",
       " '100000001010000111000010000011011000000000000000000000000000000\\n',\n",
       " '100000001000110010110111001011100100100110000010000010110010110\\n']"
      ]
     },
     "execution_count": 143,
     "metadata": {},
     "output_type": "execute_result"
    }
   ],
   "source": [
    "feature_list = os.listdir(\"./feature\")\n",
    "i = feature_list[0]\n",
    "if i[-7:-4] == \"bin\":\n",
    "    with open(\"./feature/\"+i) as file:\n",
    "            values = []\n",
    "            for lines in file:\n",
    "                values.append(str(lines[:-1]))\n",
    "values\n"
   ]
  },
  {
   "cell_type": "code",
   "execution_count": 87,
   "metadata": {},
   "outputs": [
    {
     "name": "stdout",
     "output_type": "stream",
     "text": [
      "Binary equivalent of 19.5:\n",
      "100000000110011100000000000000000000000000000000000000000000000\n",
      "\n",
      "Decimal equivalent of 100000000110011100000000000000000000000000000000000000000000000\n",
      "8.5\n"
     ]
    }
   ],
   "source": [
    "\n",
    " \n",
    "# floats are represented by IEEE 754 floating-point format which are \n",
    "# 64 bits long (not 32 bits)\n",
    " \n",
    "# float to binary\n",
    "binstr = floatToBinary64(19.5)\n",
    "print('Binary equivalent of 19.5:')\n",
    "print(binstr + '\\n')\n",
    " \n",
    "# binary to float\n",
    "fl = binaryToFloat(a)\n",
    "print('Decimal equivalent of ' + binstr)\n",
    "print(fl)"
   ]
  }
 ],
 "metadata": {
  "kernelspec": {
   "display_name": "ML",
   "language": "python",
   "name": "python3"
  },
  "language_info": {
   "codemirror_mode": {
    "name": "ipython",
    "version": 3
   },
   "file_extension": ".py",
   "mimetype": "text/x-python",
   "name": "python",
   "nbconvert_exporter": "python",
   "pygments_lexer": "ipython3",
   "version": "3.8.11"
  },
  "orig_nbformat": 4,
  "vscode": {
   "interpreter": {
    "hash": "240396ff0e9016db30d880cfd23fb188ac44aa882790618e05863cfeab3b9b04"
   }
  }
 },
 "nbformat": 4,
 "nbformat_minor": 2
}
