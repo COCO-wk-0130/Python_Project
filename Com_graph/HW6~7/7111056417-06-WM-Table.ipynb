{
 "cells": [
  {
   "cell_type": "code",
   "execution_count": 178,
   "metadata": {},
   "outputs": [],
   "source": [
    "import numpy as np\n",
    "import csv\n",
    "from math import*\n",
    "\n",
    "def dec2Mary(dec, M, n):\n",
    "    result = np.zeros(n)\n",
    "    i = 0\n",
    "    for i in range(n):\n",
    "        result[i] = dec % M\n",
    "        dec //= M\n",
    "    return np.array(result[::-1]).astype(np.int64)\n",
    "\n",
    "def table_generate(n, M, W):\n",
    "    q = round(pow(M, 1/n)-1, 6)\n",
    "    v = ceil(sqrt(pow(q, 2)*n))\n",
    "    print(q, v)\n",
    "    R_SE = []\n",
    "    for k in range(int(pow(2*v+1, n))):\n",
    "        SE = 0\n",
    "        temp = []\n",
    "        index = dec2Mary(k, 2*v+1, n) - v\n",
    "        for i in index:\n",
    "            SE += pow(i, 2)\n",
    "        temp.append(index)\n",
    "        temp.append(np.dot(index, W) % M)\n",
    "        temp.append(int(SE))\n",
    "        R_SE.append(temp)\n",
    "    R_SE.sort(key = lambda ele: ele[2])\n",
    "    R_SE.sort(key = lambda ele: ele[1])\n",
    "    HA = []\n",
    "    PA = []\n",
    "    for i in range(len(R_SE)):\n",
    "        if R_SE[i][1] == len(PA):\n",
    "            PA.append(R_SE[i])\n",
    "        else:\n",
    "            HA.append(R_SE[i])\n",
    "    return HA, PA\n",
    "\n",
    "def PSNR(MSE):\n",
    "    return 10*log(pow(255, 2)/MSE, 10)\n",
    "\n",
    "def CSV_write(HA, PA, n, M, W):\n",
    "    v = int(pow(len(HA) + len(PA), 1/n))\n",
    "    \n",
    "    #HA\n",
    "    filename = \"HA_\" + str(n) + \"_\" + str(M) + \"_(\"\n",
    "    for i in range(len(W)):\n",
    "        filename += str(W[i])\n",
    "        if i != len(W)-1:\n",
    "            filename += \"_\"\n",
    "        else:\n",
    "            filename += \")\"\n",
    "            \n",
    "    with open(filename + \".csv\", \"w\", newline=\"\", encoding = \"UTF-8\") as csvfile:\n",
    "        writer = csv.writer(csvfile)\n",
    "        RowOne = [\"HA\", n, M]\n",
    "        for i in range(len(W)):\n",
    "            RowOne.append(\"w\" + str(i+1))\n",
    "        writer.writerow(RowOne)\n",
    "        RowTwo = [\"Index\", \"d\", \"SE\"]\n",
    "        for i in W:\n",
    "            RowTwo.append(i)\n",
    "        writer.writerow(RowTwo)\n",
    "        \n",
    "        for i in range(len(HA)):\n",
    "            Row = [i, HA[i][1], HA[i][2]]\n",
    "            for j in HA[i][0]:\n",
    "                Row.append(j)\n",
    "            writer.writerow(Row)\n",
    "            \n",
    "    #PA\n",
    "    filename = \"PA_\" + str(n) + \"_\" + str(M) + \"_(\"\n",
    "    for i in range(len(W)):\n",
    "        filename += str(W[i])\n",
    "        if i != len(W)-1:\n",
    "            filename += \"_\"\n",
    "        else:\n",
    "            filename += \")\"\n",
    "            \n",
    "    with open(filename + \".csv\", \"w\", newline=\"\", encoding = \"UTF-8\") as csvfile:\n",
    "        writer = csv.writer(csvfile)\n",
    "        RowOne[0] = \"PA\"\n",
    "        writer.writerow(RowOne)\n",
    "        writer.writerow(RowTwo)\n",
    "        TSE = 0\n",
    "        for i in range(len(PA)):\n",
    "            TSE += PA[i][2]\n",
    "            Row = [i, PA[i][1], PA[i][2]]\n",
    "            for j in PA[i][0]:\n",
    "                Row.append(j)\n",
    "            writer.writerow(Row)\n",
    "            \n",
    "        writer.writerow([\"\\t\", \"TSE\", TSE])\n",
    "        writer.writerow([\"\\t\", \"MSE\", TSE / (M*n)])\n",
    "        writer.writerow([\"\\t\", \"PSNR\", PSNR(TSE/(M*n))])\n",
    "                \n",
    "        "
   ]
  },
  {
   "cell_type": "code",
   "execution_count": 182,
   "metadata": {},
   "outputs": [
    {
     "name": "stdout",
     "output_type": "stream",
     "text": [
      "1.981308 4\n"
     ]
    }
   ],
   "source": [
    "n = 4\n",
    "M = 79\n",
    "W = [1, 3, 9, 26]\n",
    "HA, PA = table_generate(n, M, W)"
   ]
  },
  {
   "cell_type": "code",
   "execution_count": 183,
   "metadata": {},
   "outputs": [],
   "source": [
    "CSV_write(HA, PA, n, M, W)"
   ]
  },
  {
   "cell_type": "code",
   "execution_count": 181,
   "metadata": {},
   "outputs": [
    {
     "data": {
      "text/plain": [
       "[[array([0, 0], dtype=int64), 0, 0],\n",
       " [array([1, 0], dtype=int64), 1, 1],\n",
       " [array([0, 1], dtype=int64), 2, 1],\n",
       " [array([ 0, -1], dtype=int64), 3, 1],\n",
       " [array([-1,  0], dtype=int64), 4, 1]]"
      ]
     },
     "execution_count": 181,
     "metadata": {},
     "output_type": "execute_result"
    }
   ],
   "source": [
    "PA"
   ]
  }
 ],
 "metadata": {
  "kernelspec": {
   "display_name": "Python 3.9.2 64-bit",
   "language": "python",
   "name": "python3"
  },
  "language_info": {
   "codemirror_mode": {
    "name": "ipython",
    "version": 3
   },
   "file_extension": ".py",
   "mimetype": "text/x-python",
   "name": "python",
   "nbconvert_exporter": "python",
   "pygments_lexer": "ipython3",
   "version": "3.9.2"
  },
  "orig_nbformat": 4,
  "vscode": {
   "interpreter": {
    "hash": "e3e8b92ae5fad49dd136bf9d3af51c13345356bf7afdb3d85c86e014008da95e"
   }
  }
 },
 "nbformat": 4,
 "nbformat_minor": 2
}
