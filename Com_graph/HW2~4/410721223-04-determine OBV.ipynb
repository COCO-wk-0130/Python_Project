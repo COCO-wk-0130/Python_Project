{
 "cells": [
  {
   "cell_type": "code",
   "execution_count": 69,
   "metadata": {},
   "outputs": [
    {
     "name": "stdout",
     "output_type": "stream",
     "text": [
      "1. Optimal Base Vector OBV：5, 5, 5, 6\n",
      "2. Derived Notation M： 750\n",
      "3. Difference D： 124\n",
      "4. EMSE OBV： 2.2917\n",
      "5. PSNR： 44.53\n"
     ]
    }
   ],
   "source": [
    "from math import*\n",
    "import random\n",
    "\n",
    "population_size = 10\n",
    "\n",
    "def resort(genes, n):\n",
    "    temp = genes[n]\n",
    "    genes = sorted(genes[:n])\n",
    "    genes.append(temp)\n",
    "    return genes\n",
    "\n",
    "def init(n, F):\n",
    "    chromosone = [[0 for _ in range(n+1)] for _ in range(population_size)]\n",
    "    b = ceil(pow(F, 1/n))\n",
    "    for i in range(population_size):\n",
    "        j = 0\n",
    "        M = 1\n",
    "        while j < n:\n",
    "            chromosone[i][j] =random.randrange(b-2, b+3)\n",
    "            M = M*chromosone[i][j]\n",
    "            j = j+1\n",
    "            if j == n:\n",
    "                if M >= F:\n",
    "                    break\n",
    "                else:\n",
    "                    M = 1\n",
    "                    j = 0\n",
    "        chromosone[i] = resort(chromosone[i], n)\n",
    "    chromosone = fitness(chromosone, n, F)\n",
    "    return chromosone\n",
    "\n",
    "def EMSE(B):\n",
    "    if B%2 == 0:\n",
    "        return (pow(B, 2)+2)/12\n",
    "    else:\n",
    "        return(pow(B, 2)-1)/12\n",
    "\n",
    "def fitness(chromosone, n, F):\n",
    "    for i in range(population_size):\n",
    "        fit = 0\n",
    "        M = 1\n",
    "        for j in range(n):\n",
    "            M*=chromosone[i][j]\n",
    "            fit += EMSE(chromosone[i][j])\n",
    "        if M < F:\n",
    "            chromosone[i][n] = 100\n",
    "        else:\n",
    "            chromosone[i][n] = round(fit/n, 4)\n",
    "    chromosone = sorted(chromosone, key = lambda x: x[n])\n",
    "    OBV = list(chromosone[0])\n",
    "    return chromosone\n",
    "\n",
    "def crossover(chromosone, n, F):\n",
    "    #selection\n",
    "    parent = []\n",
    "    parent.append(list(chromosone[0]))\n",
    "    parent.append(list(chromosone[1]))\n",
    "    for i in range(n):\n",
    "        if i%2 == 0:\n",
    "            parent[0][i], parent[1][i] = parent[1][i], parent[0][i]\n",
    "    chromosone[population_size-2] = resort(parent[0], n)\n",
    "    chromosone[population_size-1] = resort(parent[1], n)\n",
    "    chromosone = fitness(chromosone, n, F)\n",
    "    return chromosone\n",
    "\n",
    "def mutation(chromosone, n, F):\n",
    "    b = ceil(pow(F, 1/n))\n",
    "    for i in range(population_size):\n",
    "        p = random.random()\n",
    "        if p < 0.01:\n",
    "            position = random.randrange(0, n)\n",
    "            chromosone[i][position] = random.randrange(b-2, b+3)\n",
    "        else:\n",
    "            continue\n",
    "    chromosone = fitness(chromosone, n, F)\n",
    "    return chromosone\n",
    "\n",
    "def gene_generation(chromosone, n, F):\n",
    "    b = ceil(pow(F, 1/n))\n",
    "    for i in range(2, population_size, 1):\n",
    "        j = 0\n",
    "        M = 1\n",
    "        while j < n:\n",
    "            chromosone[i][j] =random.randrange(b-2, b+3)\n",
    "            M = M*chromosone[i][j]\n",
    "            j = j+1\n",
    "            if j == n:\n",
    "                if M >= F:\n",
    "                    break\n",
    "                else:\n",
    "                    M = 1\n",
    "                    j = 0\n",
    "        chromosone[i] = resort(chromosone[i], n)\n",
    "    chromosone = fitness(chromosone, n, F)\n",
    "    return chromosone\n",
    "\n",
    "def history_best(CBV, OBV, n):\n",
    "    if CBV[n] < OBV[n]:\n",
    "        return list(CBV)\n",
    "    else:\n",
    "        return list(OBV)\n",
    "\n",
    "def output(OBV, n, F):\n",
    "    M = 1\n",
    "    print(\"1. Optimal Base Vector OBV：\", end='')\n",
    "    for i in range(n):\n",
    "        M = M*OBV[i]\n",
    "        if i == n-1:\n",
    "            print(OBV[i])\n",
    "        else:\n",
    "            print(OBV[i], end = \", \")\n",
    "    print(\"2. Derived Notation M：\", M)\n",
    "    print(\"3. Difference D：\", M-F)\n",
    "    print(\"4. EMSE OBV：\", OBV[n])\n",
    "    print(\"5. PSNR：\", round(10*log((255*255)/OBV[n], 10), 2))\n",
    "    \n",
    "    \n",
    "\n",
    "def main():\n",
    "    cycle = 50\n",
    "    #n_F = input().split(\" \")\n",
    "    n_F = \"4 626\".split(\" \")\n",
    "    n = int(n_F[0])\n",
    "    F = int(n_F[1])\n",
    "    CBV = init(n, F)\n",
    "    OBV = CBV[0]\n",
    "    for G in range(cycle):\n",
    "        CBV = crossover(CBV, n, F)\n",
    "        CBV = mutation(CBV, n, F)\n",
    "        CBV = gene_generation(CBV, n, F)\n",
    "        OBV = history_best(CBV[0], OBV, n)\n",
    "    output(OBV, n, F)\n",
    "main()"
   ]
  },
  {
   "cell_type": "code",
   "execution_count": 58,
   "metadata": {},
   "outputs": [
    {
     "data": {
      "text/plain": [
       "20784112440.0"
      ]
     },
     "execution_count": 58,
     "metadata": {},
     "output_type": "execute_result"
    }
   ],
   "source": [
    "EMSE(499409)"
   ]
  },
  {
   "cell_type": "code",
   "execution_count": null,
   "metadata": {},
   "outputs": [],
   "source": [
    "while(True):\n",
    "    input = input().split(\" \")\n",
    "    n = int(input[0])\n",
    "    F = int(input[1])\n",
    "    if n == 0 or F == 0:\n",
    "        break\n",
    "    "
   ]
  }
 ],
 "metadata": {
  "kernelspec": {
   "display_name": "Python 3.9.2 64-bit",
   "language": "python",
   "name": "python3"
  },
  "language_info": {
   "codemirror_mode": {
    "name": "ipython",
    "version": 3
   },
   "file_extension": ".py",
   "mimetype": "text/x-python",
   "name": "python",
   "nbconvert_exporter": "python",
   "pygments_lexer": "ipython3",
   "version": "3.9.2"
  },
  "orig_nbformat": 4,
  "vscode": {
   "interpreter": {
    "hash": "e3e8b92ae5fad49dd136bf9d3af51c13345356bf7afdb3d85c86e014008da95e"
   }
  }
 },
 "nbformat": 4,
 "nbformat_minor": 2
}
