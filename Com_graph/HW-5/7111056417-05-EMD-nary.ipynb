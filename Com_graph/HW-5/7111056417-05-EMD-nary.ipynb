{
 "cells": [
  {
   "cell_type": "code",
   "execution_count": 2,
   "metadata": {},
   "outputs": [],
   "source": [
    "from math import*\n",
    "import random\n",
    "import numpy as np\n",
    "import cv2\n",
    "import os\n",
    "\n",
    "#依照n, pixel_num隨機生成訊息\n",
    "def message_generation(n, pixel_num, dimension):\n",
    "    #計算要嵌入的訊息長度\n",
    "    #像素數量除以n向下取整，保證所有訊息都可以被嵌入\n",
    "    #再乘上欲嵌入圖像之維度\n",
    "    length = pixel_num // n * dimension\n",
    "    #隨機生成長度為length的2*n+1進制訊息\n",
    "    message = [random.randint(0, 2*n) for i in range(length)]\n",
    "    return message"
   ]
  },
  {
   "cell_type": "code",
   "execution_count": 4,
   "metadata": {},
   "outputs": [],
   "source": [
    "#EMD, 嵌入順序為RGB, 輸入圖片為RGB\n",
    "def EMD_RGB(n, img_rgb):\n",
    "    Nary = n*2+1\n",
    "    img_shape = np.shape(img_rgb)\n",
    "    pixel_num = img_shape[0]*img_shape[1]\n",
    "    dimension = img_shape[2]\n",
    "    message = message_generation(n, pixel_num, dimension)\n",
    "    img_flat = img_rgb.reshape(pixel_num, dimension)\n",
    "    msg_num = len(message)\n",
    "    msg_per_field = msg_num // dimension\n",
    "    for i in range(msg_num):\n",
    "        f = 0\n",
    "        for j in range(n):\n",
    "            f += img_flat[(i % msg_per_field)*n + j][i // msg_per_field]*(j+1)\n",
    "        f %= Nary\n",
    "        s = (message[i] - f) % Nary\n",
    "        if s == 0:\n",
    "            continue\n",
    "        while (True):\n",
    "            if (s <= n):\n",
    "                if img_flat[(i % msg_per_field)*n + s - 1][i // msg_per_field] == 255:\n",
    "                    img_flat[(i % msg_per_field)*n + s - 1][i // msg_per_field] -= 1\n",
    "                else:\n",
    "                    img_flat[(i % msg_per_field)*n + s-1][i // msg_per_field] += 1\n",
    "                    break\n",
    "            else:\n",
    "                if img_flat[(i % msg_per_field)*n + Nary - s - 1][i // msg_per_field] == 0:\n",
    "                    img_flat[(i % msg_per_field)*n + Nary - s - 1][i // msg_per_field] += 1\n",
    "                else:\n",
    "                    img_flat[(i % msg_per_field)*n + Nary-s-1][i // msg_per_field] -= 1\n",
    "                    break\n",
    "            f = 0\n",
    "            for j in range(n):\n",
    "                f += img_flat[(i % msg_per_field)*n + j][i // msg_per_field]*(j+1)\n",
    "            f %= Nary\n",
    "            s = (message[i] - f) % Nary\n",
    "                \n",
    "    result_img_rgb = img_flat.reshape(img_shape[0], img_shape[1], img_shape[2])\n",
    "    #message是用來驗證的\n",
    "    return result_img_rgb, message"
   ]
  },
  {
   "cell_type": "code",
   "execution_count": 5,
   "metadata": {},
   "outputs": [],
   "source": [
    "#解出嵌入的訊息\n",
    "def Un_EMD_RGB(n, img_rgb):\n",
    "    Nary = 2*n + 1\n",
    "    img_shape = np.shape(img_rgb)\n",
    "    pixel_num = img_shape[0]*img_shape[1]\n",
    "    dimension = img_shape[2]\n",
    "    rebuild_message = []\n",
    "    msg_per_field = pixel_num // n\n",
    "    img_flat = img_rgb.reshape(pixel_num, dimension)\n",
    "    for i in range(msg_per_field * dimension):\n",
    "        f = 0\n",
    "        for j in range(n):\n",
    "            f += img_flat[(i % msg_per_field)*n + j][i // msg_per_field]*(j+1)\n",
    "        f %= Nary\n",
    "        rebuild_message.append(f)\n",
    "    return rebuild_message"
   ]
  },
  {
   "cell_type": "code",
   "execution_count": 6,
   "metadata": {},
   "outputs": [],
   "source": [
    "#比較是否相同\n",
    "def Checker(Unembed_MSG, MSG):\n",
    "    for i in range(len(MSG)):\n",
    "        if(Unembed_MSG[i] != MSG[i]):\n",
    "            return False\n",
    "    return True"
   ]
  },
  {
   "cell_type": "code",
   "execution_count": 11,
   "metadata": {},
   "outputs": [
    {
     "name": "stdout",
     "output_type": "stream",
     "text": [
      "True\n"
     ]
    }
   ],
   "source": [
    "#main\n",
    "random.seed(2022)\n",
    "n = 10\n",
    "img_name = \"4.2.05\"\n",
    "img_bgr = cv2.imread(\".\\\\Source\\\\\"+img_name + \".png\")\n",
    "\n",
    "#Convert BGR and RGB\n",
    "img_rgb = cv2.cvtColor(img_bgr, cv2.COLOR_BGR2RGB)\n",
    "result_img_rgb, message = EMD_RGB(n, img_rgb)\n",
    "result_img_bgr = cv2.cvtColor(result_img_rgb, cv2.COLOR_RGB2BGR)\n",
    "cv2.imwrite(\".\\\\stego\\\\\" + img_name + \"_stego_EMD\" + str(n) + \".png\", result_img_bgr)\n",
    "\n",
    "#Check the message is right\n",
    "Unembed_MSG = Un_EMD_RGB(n, result_img_rgb)\n",
    "if(Checker(Unembed_MSG, message)):\n",
    "    print(True)\n",
    "else:\n",
    "    print(False)"
   ]
  },
  {
   "cell_type": "code",
   "execution_count": 10,
   "metadata": {},
   "outputs": [
    {
     "data": {
      "text/plain": [
       "(512, 768, 3)"
      ]
     },
     "execution_count": 10,
     "metadata": {},
     "output_type": "execute_result"
    }
   ],
   "source": [
    "np.shape(result_img_bgr)"
   ]
  }
 ],
 "metadata": {
  "kernelspec": {
   "display_name": "Python 3.9.2 64-bit",
   "language": "python",
   "name": "python3"
  },
  "language_info": {
   "codemirror_mode": {
    "name": "ipython",
    "version": 3
   },
   "file_extension": ".py",
   "mimetype": "text/x-python",
   "name": "python",
   "nbconvert_exporter": "python",
   "pygments_lexer": "ipython3",
   "version": "3.9.2"
  },
  "orig_nbformat": 4,
  "vscode": {
   "interpreter": {
    "hash": "e3e8b92ae5fad49dd136bf9d3af51c13345356bf7afdb3d85c86e014008da95e"
   }
  }
 },
 "nbformat": 4,
 "nbformat_minor": 2
}
